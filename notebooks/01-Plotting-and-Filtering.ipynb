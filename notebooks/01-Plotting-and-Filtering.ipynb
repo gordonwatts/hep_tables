{
 "cells": [
  {
   "cell_type": "markdown",
   "metadata": {},
   "source": [
    "This section will introduce some basic concepts:\n",
    "\n",
    "   - Making plots a Monte Carlo $Z \\rightarrow ee$ electron $p_T$.\n",
    "   - Some simple filtering techniques (requiring the electron $p_T > 50$ GeV\n",
    "   - Some basics about what is going on under the hood\n",
    "\n",
    "The following packages and methods are required for our work below."
   ]
  },
  {
   "cell_type": "code",
   "execution_count": 1,
   "metadata": {},
   "outputs": [],
   "source": [
    "# Because we aren't working from pypi yet...\n",
    "import sys\n",
    "sys.path = ['..'] + sys.path\n",
    "\n",
    "from hep_tables import xaod_table, make_local\n",
    "from func_adl import EventDataset\n",
    "import matplotlib.pyplot as plt\n",
    "\n",
    "# Make figures a size we can see\n",
    "plt.rcParams.update({'figure.figsize':(7,5), 'figure.dpi':100})"
   ]
  },
  {
   "cell_type": "markdown",
   "metadata": {},
   "source": [
    "Everything has to start from a dataset. For this work here (and further on) we'll use a $Z \\rightarrow ee$ MC dataset from ATLAS. This is in the binary `xAOD` format, and is on rucio, and is about 17 files."
   ]
  },
  {
   "cell_type": "code",
   "execution_count": 2,
   "metadata": {},
   "outputs": [],
   "source": [
    "dataset = EventDataset('localds://mc15_13TeV:mc15_13TeV.361106.PowhegPythia8EvtGen_AZNLOCTEQ6L1_Zee.merge.DAOD_STDM3.e3601_s2576_s2132_r6630_r6264_p2363_tid05630052_00')"
   ]
  },
  {
   "cell_type": "markdown",
   "metadata": {},
   "source": [
    "In order to use this, we need to build a computational graph around it. This `xaod_table` object establishes the connection between the the computational graphs we will build, and running things on `servicex` to actually generate the requested data."
   ]
  },
  {
   "cell_type": "code",
   "execution_count": 3,
   "metadata": {},
   "outputs": [],
   "source": [
    "df = xaod_table(dataset)"
   ]
  },
  {
   "cell_type": "markdown",
   "metadata": {},
   "source": [
    "# Simple Plots\n",
    "\n",
    "First, lets just get all the $p_T$'s of electrons from our data sample. Note that in ATLAS units are in `MeV`, but `GeV` just makes more sense. So divide the jet pt's by 1000."
   ]
  },
  {
   "cell_type": "code",
   "execution_count": 4,
   "metadata": {},
   "outputs": [
    {
     "name": "stdout",
     "output_type": "stream",
     "text": [
      "Wall time: 0 ns\n"
     ]
    }
   ],
   "source": [
    "%%time\n",
    "pts = df.Electrons(\"Electrons\").pt/1000.0"
   ]
  },
  {
   "cell_type": "markdown",
   "metadata": {},
   "source": [
    "This was instantanious because have built the DAG for extracting the electron $p_T$. If we want to plot it, we have to materalize it and bring the data local. Then we can plot it:"
   ]
  },
  {
   "cell_type": "code",
   "execution_count": 5,
   "metadata": {},
   "outputs": [
    {
     "data": {
      "application/vnd.jupyter.widget-view+json": {
       "model_id": "04a96a8f8ade45dba24b8868343a957e",
       "version_major": 2,
       "version_minor": 0
      },
      "text/plain": [
       "HBox(children=(FloatProgress(value=0.0, description='mc15_13TeV:mc15_13TeV.361106.PowhegPythia8EvtGen_AZNLOCTE…"
      ]
     },
     "metadata": {},
     "output_type": "display_data"
    },
    {
     "data": {
      "application/vnd.jupyter.widget-view+json": {
       "model_id": "97f86976c0044027b30555efacd62d08",
       "version_major": 2,
       "version_minor": 0
      },
      "text/plain": [
       "HBox(children=(FloatProgress(value=0.0, description='        Downloaded', layout=Layout(flex='2'), max=9000000…"
      ]
     },
     "metadata": {},
     "output_type": "display_data"
    },
    {
     "name": "stdout",
     "output_type": "stream",
     "text": [
      "\n",
      "\n",
      "Wall time: 1.73 s\n"
     ]
    }
   ],
   "source": [
    "%%time\n",
    "np_pts = make_local(pts)"
   ]
  },
  {
   "cell_type": "markdown",
   "metadata": {},
   "source": [
    "The above cell did the following things:\n",
    "\n",
    "1. Translated the DAQ into a data-query expression for `servicex`\n",
    "1. Sent the query to `servicex`. `servicex` ran on 17 files that are in the $Z\\rightarrow ee$ dataset, and collected their results. The package then downloaded the results locally.\n",
    "1. Wrapped up the results as an in-memory JaggedArray."
   ]
  },
  {
   "cell_type": "code",
   "execution_count": 6,
   "metadata": {},
   "outputs": [
    {
     "name": "stderr",
     "output_type": "stream",
     "text": [
      "i:\\gwatts\\code\\irishep\\hep_tables\\.venv\\lib\\site-packages\\numpy\\lib\\histograms.py:839: RuntimeWarning: invalid value encountered in greater_equal\n",
      "  keep = (tmp_a >= first_edge)\n",
      "i:\\gwatts\\code\\irishep\\hep_tables\\.venv\\lib\\site-packages\\numpy\\lib\\histograms.py:840: RuntimeWarning: invalid value encountered in less_equal\n",
      "  keep &= (tmp_a <= last_edge)\n"
     ]
    },
    {
     "data": {
      "image/png": "[encoded data removed]",
      "text/plain": [
       "<Figure size 700x500 with 1 Axes>"
      ]
     },
     "metadata": {
      "needs_background": "light"
     },
     "output_type": "display_data"
    }
   ],
   "source": [
    "plt.hist(np_pts.flatten(), range=(0, 100), bins=50)\n",
    "plt.xlabel('Electron $p_T$ [GeV]')\n",
    "_ = plt.ylabel('PowhegPythia8EvtGen_AZNLOCTEQ6L1_Zee')"
   ]
  },
  {
   "cell_type": "markdown",
   "metadata": {},
   "source": [
    "The data that comes back is a very simple `JaggedArray` - this is from the [`awkward` array package](https://github.com/scikit-hep/awkward-array). So you can manipulate it as you normally would. Since we only pulled back the data we wanted, it is nice and small and easy to "
   ]
  },
  {
   "cell_type": "code",
   "execution_count": 7,
   "metadata": {},
   "outputs": [
    {
     "name": "stdout",
     "output_type": "stream",
     "text": [
      "<class 'awkward.array.jagged.JaggedArray'>\n",
      "(1993800,)\n"
     ]
    }
   ],
   "source": [
    "print (type(np_pts))\n",
    "print (np_pts.shape)"
   ]
  },
  {
   "cell_type": "code",
   "execution_count": 8,
   "metadata": {},
   "outputs": [
    {
     "data": {
      "text/plain": [
       "0        0     5.103880\n",
       "         1     4.255533\n",
       "         2     4.827839\n",
       "1        0    39.376527\n",
       "         1    24.656729\n",
       "                ...    \n",
       "1993796  3     4.166109\n",
       "1993797  0     4.459818\n",
       "1993798  0    52.486605\n",
       "         1    23.942820\n",
       "         2    19.794887\n",
       "Length: 5248750, dtype: float64"
      ]
     },
     "execution_count": 8,
     "metadata": {},
     "output_type": "execute_result"
    }
   ],
   "source": [
    "import awkward\n",
    "awkward.topandas(np_pts, flatten=True)"
   ]
  },
  {
   "cell_type": "markdown",
   "metadata": {},
   "source": [
    "## Filtering Single Objects\n",
    "\n",
    "What if we only want to look at the electrons with a $p_T$ above 50 GeV? Then we use the slice operations that `numpy` and `pandas` have gotten us used to. To avoid repeating ourselves and typing long lines, it is convienient to define a few variables as short-cuts. We also want a list of _good electrons_, so lets define that."
   ]
  },
  {
   "cell_type": "code",
   "execution_count": 9,
   "metadata": {},
   "outputs": [
    {
     "data": {
      "application/vnd.jupyter.widget-view+json": {
       "model_id": "9af0afbae1fb484693aaca4742a840d8",
       "version_major": 2,
       "version_minor": 0
      },
      "text/plain": [
       "HBox(children=(FloatProgress(value=0.0, description='mc15_13TeV:mc15_13TeV.361106.PowhegPythia8EvtGen_AZNLOCTE…"
      ]
     },
     "metadata": {},
     "output_type": "display_data"
    },
    {
     "data": {
      "application/vnd.jupyter.widget-view+json": {
       "model_id": "8706405283ed46ec966e6654be815879",
       "version_major": 2,
       "version_minor": 0
      },
      "text/plain": [
       "HBox(children=(FloatProgress(value=0.0, description='        Downloaded', layout=Layout(flex='2'), max=9000000…"
      ]
     },
     "metadata": {},
     "output_type": "display_data"
    },
    {
     "name": "stdout",
     "output_type": "stream",
     "text": [
      "\n",
      "\n",
      "Wall time: 1.2 s\n"
     ]
    }
   ],
   "source": [
    "%%time\n",
    "eles = df.Electrons(\"Electrons\")\n",
    "good_eles = eles[(eles.pt > 50000.0) & (abs(eles.eta) < 1.5)]\n",
    "\n",
    "np_pts_good_short = make_local(good_eles.pt/1000.0)"
   ]
  },
  {
   "cell_type": "code",
   "execution_count": 10,
   "metadata": {},
   "outputs": [
    {
     "data": {
      "image/png": "[encoded data removed]",
      "text/plain": [
       "<Figure size 700x500 with 1 Axes>"
      ]
     },
     "metadata": {
      "needs_background": "light"
     },
     "output_type": "display_data"
    }
   ],
   "source": [
    "plt.hist(np_pts_good_short.flatten(), range=(0, 100), bins=50)\n",
    "plt.xlabel('Electron $p_T$ with cut [GeV]')\n",
    "_ = plt.ylabel('PowhegPythia8EvtGen_AZNLOCTEQ6L1_Zee')"
   ]
  },
  {
   "cell_type": "markdown",
   "metadata": {},
   "source": [
    "So now we can look at the $\\eta$ distributions before and after that cut if we like. Note we move the lists right inside the `make_local` call as we aren't going to really need those definitions elsewhere."
   ]
  },
  {
   "cell_type": "code",
   "execution_count": 11,
   "metadata": {},
   "outputs": [
    {
     "data": {
      "application/vnd.jupyter.widget-view+json": {
       "model_id": "8f9829081a464136923d569790b0c026",
       "version_major": 2,
       "version_minor": 0
      },
      "text/plain": [
       "HBox(children=(FloatProgress(value=0.0, description='mc15_13TeV:mc15_13TeV.361106.PowhegPythia8EvtGen_AZNLOCTE…"
      ]
     },
     "metadata": {},
     "output_type": "display_data"
    },
    {
     "data": {
      "application/vnd.jupyter.widget-view+json": {
       "model_id": "da26fc212f46410ca56a40c74bb2f463",
       "version_major": 2,
       "version_minor": 0
      },
      "text/plain": [
       "HBox(children=(FloatProgress(value=0.0, description='        Downloaded', layout=Layout(flex='2'), max=9000000…"
      ]
     },
     "metadata": {},
     "output_type": "display_data"
    },
    {
     "name": "stdout",
     "output_type": "stream",
     "text": [
      "\n",
      "\n"
     ]
    },
    {
     "data": {
      "application/vnd.jupyter.widget-view+json": {
       "model_id": "22e73de8f7d9445092c65c4156424b2e",
       "version_major": 2,
       "version_minor": 0
      },
      "text/plain": [
       "HBox(children=(FloatProgress(value=0.0, description='mc15_13TeV:mc15_13TeV.361106.PowhegPythia8EvtGen_AZNLOCTE…"
      ]
     },
     "metadata": {},
     "output_type": "display_data"
    },
    {
     "data": {
      "application/vnd.jupyter.widget-view+json": {
       "model_id": "68f3b5745e40484bb2d857d90dac3f46",
       "version_major": 2,
       "version_minor": 0
      },
      "text/plain": [
       "HBox(children=(FloatProgress(value=0.0, description='        Downloaded', layout=Layout(flex='2'), max=9000000…"
      ]
     },
     "metadata": {},
     "output_type": "display_data"
    },
    {
     "name": "stdout",
     "output_type": "stream",
     "text": [
      "\n",
      "\n",
      "Wall time: 3.09 s\n"
     ]
    }
   ],
   "source": [
    "%%time\n",
    "np_eta_all = make_local(eles.eta)\n",
    "np_eta_good = make_local(good_eles.eta)"
   ]
  },
  {
   "cell_type": "code",
   "execution_count": 12,
   "metadata": {},
   "outputs": [
    {
     "data": {
      "image/png": "[encoded data removed]",
      "text/plain": [
       "<Figure size 700x500 with 1 Axes>"
      ]
     },
     "metadata": {
      "needs_background": "light"
     },
     "output_type": "display_data"
    }
   ],
   "source": [
    "plt.hist(np_eta_all.flatten(), label='all', bins=50, range=(-3.0,3.0))\n",
    "plt.hist(np_eta_good.flatten(), label='good', bins=50, range=(-3.0,3.0), color='g')\n",
    "plt.yscale('log')\n",
    "plt.ylabel('PowhegPythia8EvtGen_AZNLOCTEQ6L1_Zee')\n",
    "plt.xlabel('Electron $\\eta$')\n",
    "plt.legend();"
   ]
  },
  {
   "cell_type": "markdown",
   "metadata": {},
   "source": [
    "### Filter Functions\n",
    "\n",
    "Sometimes filters can get a bit complex or you'd like to re-use them, or define them in one file and use them in another. Filter functions are a way to do that. The function is just inserted into the filter, and will, effectively, be called as if it has a single electron as an argument:"
   ]
  },
  {
   "cell_type": "code",
   "execution_count": 13,
   "metadata": {},
   "outputs": [],
   "source": [
    "def central_good_ele(e):\n",
    "    return (e.pt/1000.0 > 40) & (abs(e.eta) < 1.5)\n",
    "\n",
    "central_good_eles = eles[central_good_ele]"
   ]
  },
  {
   "cell_type": "code",
   "execution_count": 14,
   "metadata": {},
   "outputs": [
    {
     "data": {
      "application/vnd.jupyter.widget-view+json": {
       "model_id": "73ebd305068d4d3b87795de756c0b5c9",
       "version_major": 2,
       "version_minor": 0
      },
      "text/plain": [
       "HBox(children=(FloatProgress(value=0.0, description='mc15_13TeV:mc15_13TeV.361106.PowhegPythia8EvtGen_AZNLOCTE…"
      ]
     },
     "metadata": {},
     "output_type": "display_data"
    },
    {
     "data": {
      "application/vnd.jupyter.widget-view+json": {
       "model_id": "2131aa458c5744ccb09f15f1243d9f3e",
       "version_major": 2,
       "version_minor": 0
      },
      "text/plain": [
       "HBox(children=(FloatProgress(value=0.0, description='        Downloaded', layout=Layout(flex='2'), max=9000000…"
      ]
     },
     "metadata": {},
     "output_type": "display_data"
    },
    {
     "name": "stdout",
     "output_type": "stream",
     "text": [
      "\n",
      "\n",
      "Wall time: 1.26 s\n"
     ]
    }
   ],
   "source": [
    "%%time\n",
    "np_eta_central_good = make_local(central_good_eles.eta)"
   ]
  },
  {
   "cell_type": "code",
   "execution_count": 15,
   "metadata": {},
   "outputs": [
    {
     "data": {
      "image/png": "[encoded data removed]",
      "text/plain": [
       "<Figure size 700x500 with 1 Axes>"
      ]
     },
     "metadata": {
      "needs_background": "light"
     },
     "output_type": "display_data"
    }
   ],
   "source": [
    "plt.hist(np_eta_all.flatten(), label='all', bins=50, range=(-3.0,3.0))\n",
    "plt.hist(np_eta_central_good.flatten(), label='central good', bins=50, range=(-3.0,3.0), color='y')\n",
    "plt.hist(np_eta_good.flatten(), label='good', bins=50, range=(-3.0,3.0), color='g')\n",
    "plt.yscale('log')\n",
    "plt.ylabel('PowhegPythia8EvtGen_AZNLOCTEQ6L1_Zee')\n",
    "plt.xlabel('Electron $\\eta$')\n",
    "plt.legend();"
   ]
  },
  {
   "cell_type": "markdown",
   "metadata": {},
   "source": [
    "There isn't anything very magical occuring here: the function is called with an argument of whatever preceeds the filtering brackets. So `eles[central_good_ele]` is a short cut for `eles[central_good_ele(eles)]`. This is more about syntatic sugar."
   ]
  },
  {
   "cell_type": "markdown",
   "metadata": {},
   "source": [
    "## Filtering on numbers of objects\n",
    "\n",
    "So far the selection and filtering has all been on a single object - like a single electron having $p_T > 50$ GeV. What if you want to require at least two electrons that satisfy that requirement? To count the number of objects that satisfy a requirement, after the cuts, add the `Count()` method. `Count` will always count the number of objects it is looking at. It can be used both to get back counts and also to filter:"
   ]
  },
  {
   "cell_type": "code",
   "execution_count": 16,
   "metadata": {},
   "outputs": [
    {
     "data": {
      "application/vnd.jupyter.widget-view+json": {
       "model_id": "ab16cdad34f94ef18c046c7ae099220e",
       "version_major": 2,
       "version_minor": 0
      },
      "text/plain": [
       "HBox(children=(FloatProgress(value=0.0, description='mc15_13TeV:mc15_13TeV.361106.PowhegPythia8EvtGen_AZNLOCTE…"
      ]
     },
     "metadata": {},
     "output_type": "display_data"
    },
    {
     "data": {
      "application/vnd.jupyter.widget-view+json": {
       "model_id": "5a95382bcc0648cab662fd8d881a53a4",
       "version_major": 2,
       "version_minor": 0
      },
      "text/plain": [
       "HBox(children=(FloatProgress(value=0.0, description='        Downloaded', layout=Layout(flex='2'), max=9000000…"
      ]
     },
     "metadata": {},
     "output_type": "display_data"
    },
    {
     "name": "stdout",
     "output_type": "stream",
     "text": [
      "\n",
      "\n"
     ]
    },
    {
     "data": {
      "application/vnd.jupyter.widget-view+json": {
       "model_id": "6f6a36cf52674e26975536f424236417",
       "version_major": 2,
       "version_minor": 0
      },
      "text/plain": [
       "HBox(children=(FloatProgress(value=0.0, description='mc15_13TeV:mc15_13TeV.361106.PowhegPythia8EvtGen_AZNLOCTE…"
      ]
     },
     "metadata": {},
     "output_type": "display_data"
    },
    {
     "data": {
      "application/vnd.jupyter.widget-view+json": {
       "model_id": "96c30329ea564ce9b340386010ceca97",
       "version_major": 2,
       "version_minor": 0
      },
      "text/plain": [
       "HBox(children=(FloatProgress(value=0.0, description='        Downloaded', layout=Layout(flex='2'), max=9000000…"
      ]
     },
     "metadata": {},
     "output_type": "display_data"
    },
    {
     "name": "stdout",
     "output_type": "stream",
     "text": [
      "\n",
      "\n",
      "Wall time: 1.42 s\n"
     ]
    }
   ],
   "source": [
    "%%time\n",
    "electron_counts = make_local(eles.Count())\n",
    "good_electron_counts = make_local(good_eles.Count())"
   ]
  },
  {
   "cell_type": "code",
   "execution_count": 17,
   "metadata": {},
   "outputs": [
    {
     "data": {
      "image/png": "[encoded data removed]",
      "text/plain": [
       "<Figure size 700x500 with 1 Axes>"
      ]
     },
     "metadata": {
      "needs_background": "light"
     },
     "output_type": "display_data"
    }
   ],
   "source": [
    "plt.hist(electron_counts[electron_counts>0], label='all', range=(0,10))\n",
    "plt.hist(good_electron_counts[good_electron_counts>0], label='good', range=(0,10))\n",
    "plt.xlabel('$N_{ele}$')\n",
    "plt.ylabel('PowhegPythia8EvtGen_AZNLOCTEQ6L1_Zee')\n",
    "plt.title('Number of Electrons in each Event')\n",
    "_ = plt.legend()"
   ]
  },
  {
   "cell_type": "markdown",
   "metadata": {},
   "source": [
    "And we can also filter on number of electrons, creating a collection of events that have only two electrons:"
   ]
  },
  {
   "cell_type": "code",
   "execution_count": 18,
   "metadata": {},
   "outputs": [
    {
     "data": {
      "application/vnd.jupyter.widget-view+json": {
       "model_id": "b50021002f53487f983f0f377654d643",
       "version_major": 2,
       "version_minor": 0
      },
      "text/plain": [
       "HBox(children=(FloatProgress(value=0.0, description='mc15_13TeV:mc15_13TeV.361106.PowhegPythia8EvtGen_AZNLOCTE…"
      ]
     },
     "metadata": {},
     "output_type": "display_data"
    },
    {
     "data": {
      "application/vnd.jupyter.widget-view+json": {
       "model_id": "2b90bb40aa0244e98b5b18c8b5eb0e34",
       "version_major": 2,
       "version_minor": 0
      },
      "text/plain": [
       "HBox(children=(FloatProgress(value=0.0, description='        Downloaded', layout=Layout(flex='2'), max=9000000…"
      ]
     },
     "metadata": {},
     "output_type": "display_data"
    },
    {
     "name": "stdout",
     "output_type": "stream",
     "text": [
      "\n",
      "\n",
      "Wall time: 686 ms\n"
     ]
    }
   ],
   "source": [
    "%%time\n",
    "good_events = df[eles.Count() == 2]\n",
    "ele_per_event_count = make_local(good_events.Electrons(\"Electrons\").Count())"
   ]
  },
  {
   "cell_type": "code",
   "execution_count": 19,
   "metadata": {},
   "outputs": [
    {
     "data": {
      "image/png": "[encoded data removed]",
      "text/plain": [
       "<Figure size 700x500 with 1 Axes>"
      ]
     },
     "metadata": {
      "needs_background": "light"
     },
     "output_type": "display_data"
    }
   ],
   "source": [
    "plt.hist(ele_per_event_count, range=(0,10))\n",
    "plt.title ('Number of electrons when $N_{ele} = 2$')\n",
    "plt.xlabel('$N_{ele}$')\n",
    "_ = plt.ylabel('PowhegPythia8EvtGen_AZNLOCTEQ6L1_Zee')"
   ]
  }
 ],
 "metadata": {
  "kernelspec": {
   "display_name": "Python 3",
   "language": "python",
   "name": "python3"
  },
  "language_info": {
   "codemirror_mode": {
    "name": "ipython",
    "version": 3
   },
   "file_extension": ".py",
   "mimetype": "text/x-python",
   "name": "python",
   "nbconvert_exporter": "python",
   "pygments_lexer": "ipython3",
   "version": "3.7.7"
  }
 },
 "nbformat": 4,
 "nbformat_minor": 4
}
