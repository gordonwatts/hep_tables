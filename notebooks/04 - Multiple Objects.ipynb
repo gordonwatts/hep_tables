{
 "cells": [
  {
   "cell_type": "markdown",
   "metadata": {},
   "source": [
    "# Multiple Objects\n",
    "\n",
    "A real analysis rarely deals with single objects - just one electron or one jet. More common are combinations of objects. The `hep_tables` package does this by leaning on the `map` function previously described and python's captured variables."
   ]
  },
  {
   "cell_type": "code",
   "execution_count": 1,
   "metadata": {},
   "outputs": [],
   "source": [
    "import sys\n",
    "sys.path = ['..'] + sys.path\n",
    "from hep_tables import xaod_table, make_local\n",
    "from dataframe_expressions import user_func\n",
    "from func_adl import EventDataset\n",
    "import matplotlib.pyplot as plt\n",
    "\n",
    "import numpy as np\n",
    "\n",
    "plt.rcParams.update({'figure.figsize':(7,5), 'figure.dpi':100})\n",
    "\n",
    "# Define DeltaR function availible on servicex (see the functions intro for more info)\n",
    "@user_func\n",
    "def DeltaR(p1_eta: float, p1_phi: float, p2_eta: float, p2_phi: float) -> float:\n",
    "    '''\n",
    "    Calculate the DeltaR between two particles given their `eta` and `phi` locations.\n",
    "    Implemented on the back end.\n",
    "    '''\n",
    "    assert False, 'This should never be called'\n",
    "    \n",
    "define_alias('', 'ptgev', lambda o: o.pt / 1000.0)"
   ]
  },
  {
   "cell_type": "code",
   "execution_count": 2,
   "metadata": {},
   "outputs": [],
   "source": [
    "dataset = EventDataset('localds://mc15_13TeV:mc15_13TeV.361106.PowhegPythia8EvtGen_AZNLOCTEQ6L1_Zee.merge.DAOD_STDM3.e3601_s2576_s2132_r6630_r6264_p2363_tid05630052_00')\n",
    "df = xaod_table(dataset)"
   ]
  },
  {
   "cell_type": "markdown",
   "metadata": {},
   "source": [
    "## Matching the MC electron to the actual electron\n",
    "\n",
    "We need to look at the MC particles, select the electrons, and then match them to electrons in the actual dataset. I've not done this in this dataset before, so I'm going to have to feel my way a bit with a few plots to allow me to understand what is going on.\n",
    "\n",
    "First, lets get a plot of the MC electrons. I had to look up the pdg id (embarassing): `11` - Note that -11 isn't being used here because of a bug that this turned up in the backend (see [bug](https://github.com/iris-hep/func_adl_xAOD/issues/37))!"
   ]
  },
  {
   "cell_type": "code",
   "execution_count": 3,
   "metadata": {},
   "outputs": [],
   "source": [
    "mc_part = df.TruthParticles('TruthParticles')\n",
    "mc_ele = mc_part[(mc_part.pdgId == 11)]"
   ]
  },
  {
   "cell_type": "code",
   "execution_count": 25,
   "metadata": {},
   "outputs": [
    {
     "name": "stdout",
     "output_type": "stream",
     "text": [
      "Wall time: 9min 23s\n"
     ]
    }
   ],
   "source": [
    "%%time\n",
    "mc_ele_pt = make_local(mc_ele.pt)\n",
    "mc_ele_eta = make_local(mc_ele.eta)\n",
    "mc_ele_phi = make_local(mc_ele.phi)"
   ]
  },
  {
   "cell_type": "code",
   "execution_count": null,
   "metadata": {},
   "outputs": [],
   "source": [
    "%%time\n",
    "eles = df.Electrons('Electrons')\n",
    "ele_pt = make_local(eles.pt)\n",
    "ele_eta = make_local(eles.eta)\n",
    "ele_phi = make_local(eles.phi)"
   ]
  },
  {
   "cell_type": "code",
   "execution_count": null,
   "metadata": {},
   "outputs": [],
   "source": [
    "plt.hist(mc_ele_pt.flatten(), label='mc', bins=50, range=(0.0, 200.0), density=True, histtype='step')\n",
    "plt.hist(ele_pt.flatten(), label='reco', bins=50, range=(0.0, 200.0), density=True, histtype='step')\n",
    "plt.legend()\n",
    "plt.xlabel('Electron $p_T$')\n",
    "_ = plt.ylabel('Noramlized Counts')"
   ]
  },
  {
   "cell_type": "code",
   "execution_count": null,
   "metadata": {},
   "outputs": [],
   "source": [
    "plt.hist(mc_ele_eta.flatten(), label='mc', bins=50, range=(-3.0, 3.0), density=True, histtype='step')\n",
    "plt.hist(ele_eta.flatten(), label='reco', bins=50, range=(-3.0, 3.0), density=True, histtype='step')\n",
    "plt.legend()\n",
    "plt.xlabel('Electron $\\eta$')\n",
    "_ = plt.ylabel('Noramlized Counts')"
   ]
  },
  {
   "cell_type": "code",
   "execution_count": null,
   "metadata": {},
   "outputs": [],
   "source": [
    "plt.hist(mc_ele_phi.flatten(), label='mc', bins=50, range=(0.0, 3.2), density=True, histtype='step')\n",
    "plt.hist(ele_phi.flatten(), label='reco', bins=50, range=(0.0, 3.2), density=True, histtype='step')\n",
    "plt.legend()\n",
    "plt.xlabel('Electron $\\phi$')\n",
    "_ = plt.ylabel('Noramlized Counts')"
   ]
  },
  {
   "cell_type": "code",
   "execution_count": null,
   "metadata": {},
   "outputs": [],
   "source": []
  }
 ],
 "metadata": {
  "kernelspec": {
   "display_name": "Python 3",
   "language": "python",
   "name": "python3"
  },
  "language_info": {
   "codemirror_mode": {
    "name": "ipython",
    "version": 3
   },
   "file_extension": ".py",
   "mimetype": "text/x-python",
   "name": "python",
   "nbconvert_exporter": "python",
   "pygments_lexer": "ipython3",
   "version": "3.7.7"
  }
 },
 "nbformat": 4,
 "nbformat_minor": 4
}
