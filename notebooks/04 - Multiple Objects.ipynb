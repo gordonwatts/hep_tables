{
 "cells": [
  {
   "cell_type": "markdown",
   "metadata": {},
   "source": [
    "# Multiple Objects\n",
    "\n",
    "A real analysis rarely deals with single objects - just one electron or one jet. More common are combinations of objects. The `hep_tables` package does this by leaning on the `map` function previously described and python's captured variables."
   ]
  },
  {
   "cell_type": "code",
   "execution_count": 1,
   "metadata": {},
   "outputs": [],
   "source": [
    "from hep_tables import xaod_table, make_local, curry\n",
    "from dataframe_expressions import user_func, define_alias\n",
    "from func_adl import EventDataset\n",
    "import matplotlib.pyplot as plt\n",
    "\n",
    "import numpy as np\n",
    "\n",
    "plt.rcParams.update({'figure.figsize':(7,5), 'figure.dpi':100})\n",
    "\n",
    "# Define DeltaR function availible on servicex (see the functions intro for more info)\n",
    "@user_func\n",
    "def DeltaR(p1_eta: float, p1_phi: float, p2_eta: float, p2_phi: float) -> float:\n",
    "    '''\n",
    "    Calculate the DeltaR between two particles given their `eta` and `phi` locations.\n",
    "    Implemented on the back end.\n",
    "    '''\n",
    "    assert False, 'This should never be called'\n",
    "    \n",
    "define_alias('', 'ptgev', lambda o: o.pt / 1000.0)\n",
    "\n",
    "import logging\n",
    "logging.getLogger('urllib3.connectionpool').setLevel(logging.WARNING)"
   ]
  },
  {
   "cell_type": "code",
   "execution_count": 2,
   "metadata": {},
   "outputs": [],
   "source": [
    "dataset = EventDataset('localds://mc15_13TeV:mc15_13TeV.361106.PowhegPythia8EvtGen_AZNLOCTEQ6L1_Zee.merge.DAOD_STDM3.e3601_s2576_s2132_r6630_r6264_p2363_tid05630052_00')\n",
    "df = xaod_table(dataset)"
   ]
  },
  {
   "cell_type": "markdown",
   "metadata": {},
   "source": [
    "## Matching the MC electron to the actual electron\n",
    "\n",
    "We need to look at the MC particles, select the electrons, and then match them to electrons in the actual dataset. I've not done this in this dataset before, so I'm going to have to feel my way a bit with a few plots to allow me to understand what is going on.\n",
    "\n",
    "First, lets get a plot of the MC electrons. I had to look up the pdg id (embarassing): `11` - Note that -11 isn't being used here because of a bug that this turned up in the backend (see [bug](https://github.com/iris-hep/func_adl_xAOD/issues/37))!"
   ]
  },
  {
   "cell_type": "code",
   "execution_count": 3,
   "metadata": {},
   "outputs": [],
   "source": [
    "mc_part = df.TruthParticles('TruthParticles')\n",
    "mc_ele = mc_part[(mc_part.pdgId == 11)]"
   ]
  },
  {
   "cell_type": "code",
   "execution_count": 4,
   "metadata": {},
   "outputs": [
    {
     "data": {
      "application/vnd.jupyter.widget-view+json": {
       "model_id": "6bfe6a0c701b44c6b8e17e16764e4cf7",
       "version_major": 2,
       "version_minor": 0
      },
      "text/plain": [
       "HBox(children=(FloatProgress(value=0.0, description='mc15_13TeV:mc15_13TeV.361106.PowhegPythia8EvtGen_AZNLOCTE…"
      ]
     },
     "metadata": {},
     "output_type": "display_data"
    },
    {
     "data": {
      "application/vnd.jupyter.widget-view+json": {
       "model_id": "457aa719721440df8624d1f32afa4c29",
       "version_major": 2,
       "version_minor": 0
      },
      "text/plain": [
       "HBox(children=(FloatProgress(value=0.0, description='        Downloaded', layout=Layout(flex='2'), max=9000000…"
      ]
     },
     "metadata": {},
     "output_type": "display_data"
    },
    {
     "name": "stdout",
     "output_type": "stream",
     "text": [
      "\n",
      "\n"
     ]
    },
    {
     "data": {
      "application/vnd.jupyter.widget-view+json": {
       "model_id": "1c9bf1e6d2e4491abc9bf4e86acedbe7",
       "version_major": 2,
       "version_minor": 0
      },
      "text/plain": [
       "HBox(children=(FloatProgress(value=0.0, description='mc15_13TeV:mc15_13TeV.361106.PowhegPythia8EvtGen_AZNLOCTE…"
      ]
     },
     "metadata": {},
     "output_type": "display_data"
    },
    {
     "data": {
      "application/vnd.jupyter.widget-view+json": {
       "model_id": "ae6ad7a4af8a4d75b8514fed62984ddf",
       "version_major": 2,
       "version_minor": 0
      },
      "text/plain": [
       "HBox(children=(FloatProgress(value=0.0, description='        Downloaded', layout=Layout(flex='2'), max=9000000…"
      ]
     },
     "metadata": {},
     "output_type": "display_data"
    },
    {
     "name": "stdout",
     "output_type": "stream",
     "text": [
      "\n",
      "\n"
     ]
    },
    {
     "data": {
      "application/vnd.jupyter.widget-view+json": {
       "model_id": "dd1ced8e83ec40aa8071b5f84172596d",
       "version_major": 2,
       "version_minor": 0
      },
      "text/plain": [
       "HBox(children=(FloatProgress(value=0.0, description='mc15_13TeV:mc15_13TeV.361106.PowhegPythia8EvtGen_AZNLOCTE…"
      ]
     },
     "metadata": {},
     "output_type": "display_data"
    },
    {
     "data": {
      "application/vnd.jupyter.widget-view+json": {
       "model_id": "dd8b2743a4ff41379309a891214ea161",
       "version_major": 2,
       "version_minor": 0
      },
      "text/plain": [
       "HBox(children=(FloatProgress(value=0.0, description='        Downloaded', layout=Layout(flex='2'), max=9000000…"
      ]
     },
     "metadata": {},
     "output_type": "display_data"
    },
    {
     "name": "stdout",
     "output_type": "stream",
     "text": [
      "\n",
      "\n"
     ]
    }
   ],
   "source": [
    "mc_ele_pt = make_local(mc_ele.ptgev)\n",
    "mc_ele_eta = make_local(mc_ele.eta)\n",
    "mc_ele_phi = make_local(mc_ele.phi)"
   ]
  },
  {
   "cell_type": "code",
   "execution_count": 5,
   "metadata": {},
   "outputs": [],
   "source": [
    "eles = df.Electrons('Electrons')"
   ]
  },
  {
   "cell_type": "code",
   "execution_count": 6,
   "metadata": {},
   "outputs": [
    {
     "data": {
      "application/vnd.jupyter.widget-view+json": {
       "model_id": "e2cfb837b53c46e98b1d6fea20948549",
       "version_major": 2,
       "version_minor": 0
      },
      "text/plain": [
       "HBox(children=(FloatProgress(value=0.0, description='mc15_13TeV:mc15_13TeV.361106.PowhegPythia8EvtGen_AZNLOCTE…"
      ]
     },
     "metadata": {},
     "output_type": "display_data"
    },
    {
     "data": {
      "application/vnd.jupyter.widget-view+json": {
       "model_id": "e9521a3e24eb46ea92888cce5a78f5d4",
       "version_major": 2,
       "version_minor": 0
      },
      "text/plain": [
       "HBox(children=(FloatProgress(value=0.0, description='        Downloaded', layout=Layout(flex='2'), max=9000000…"
      ]
     },
     "metadata": {},
     "output_type": "display_data"
    },
    {
     "name": "stdout",
     "output_type": "stream",
     "text": [
      "\n",
      "\n"
     ]
    },
    {
     "data": {
      "application/vnd.jupyter.widget-view+json": {
       "model_id": "0e503c85f3eb4838b97806407c5cdbea",
       "version_major": 2,
       "version_minor": 0
      },
      "text/plain": [
       "HBox(children=(FloatProgress(value=0.0, description='mc15_13TeV:mc15_13TeV.361106.PowhegPythia8EvtGen_AZNLOCTE…"
      ]
     },
     "metadata": {},
     "output_type": "display_data"
    },
    {
     "data": {
      "application/vnd.jupyter.widget-view+json": {
       "model_id": "4ee73e86dd464ca3a957c2594a342b6b",
       "version_major": 2,
       "version_minor": 0
      },
      "text/plain": [
       "HBox(children=(FloatProgress(value=0.0, description='        Downloaded', layout=Layout(flex='2'), max=9000000…"
      ]
     },
     "metadata": {},
     "output_type": "display_data"
    },
    {
     "name": "stdout",
     "output_type": "stream",
     "text": [
      "\n",
      "\n"
     ]
    },
    {
     "data": {
      "application/vnd.jupyter.widget-view+json": {
       "model_id": "cd9391218d66421e96849727b7f32b0d",
       "version_major": 2,
       "version_minor": 0
      },
      "text/plain": [
       "HBox(children=(FloatProgress(value=0.0, description='mc15_13TeV:mc15_13TeV.361106.PowhegPythia8EvtGen_AZNLOCTE…"
      ]
     },
     "metadata": {},
     "output_type": "display_data"
    },
    {
     "data": {
      "application/vnd.jupyter.widget-view+json": {
       "model_id": "4447f7e29a5c4640beafff0c197a1b0e",
       "version_major": 2,
       "version_minor": 0
      },
      "text/plain": [
       "HBox(children=(FloatProgress(value=0.0, description='        Downloaded', layout=Layout(flex='2'), max=9000000…"
      ]
     },
     "metadata": {},
     "output_type": "display_data"
    },
    {
     "name": "stdout",
     "output_type": "stream",
     "text": [
      "\n",
      "\n",
      "Wall time: 11 s\n"
     ]
    }
   ],
   "source": [
    "%%time\n",
    "ele_pt = make_local(eles.ptgev)\n",
    "ele_eta = make_local(eles.eta)\n",
    "ele_phi = make_local(eles.phi)"
   ]
  },
  {
   "cell_type": "code",
   "execution_count": 7,
   "metadata": {},
   "outputs": [
    {
     "name": "stderr",
     "output_type": "stream",
     "text": [
      "c:\\users\\gordo\\documents\\code\\iris-hep\\hep_tables\\.venv\\lib\\site-packages\\numpy\\lib\\histograms.py:839: RuntimeWarning: invalid value encountered in greater_equal\n",
      "  keep = (tmp_a >= first_edge)\n",
      "c:\\users\\gordo\\documents\\code\\iris-hep\\hep_tables\\.venv\\lib\\site-packages\\numpy\\lib\\histograms.py:840: RuntimeWarning: invalid value encountered in less_equal\n",
      "  keep &= (tmp_a <= last_edge)\n"
     ]
    },
    {
     "data": {
      "image/png": "[encoded data removed]",
      "text/plain": [
       "<Figure size 700x500 with 1 Axes>"
      ]
     },
     "metadata": {
      "needs_background": "light"
     },
     "output_type": "display_data"
    }
   ],
   "source": [
    "plt.hist(mc_ele_pt.flatten(), label='mc', bins=50, range=(0.0, 200.0), density=False, histtype='step')\n",
    "plt.hist(ele_pt.flatten(), label='reco', bins=50, range=(0.0, 200.0), density=False, histtype='step')\n",
    "plt.legend()\n",
    "plt.xlabel('Electron $p_T$')\n",
    "_ = plt.ylabel('Noramlized Counts')"
   ]
  },
  {
   "cell_type": "code",
   "execution_count": 8,
   "metadata": {},
   "outputs": [
    {
     "data": {
      "image/png": "[encoded data removed]",
      "text/plain": [
       "<Figure size 700x500 with 1 Axes>"
      ]
     },
     "metadata": {
      "needs_background": "light"
     },
     "output_type": "display_data"
    }
   ],
   "source": [
    "plt.hist(mc_ele_eta.flatten(), label='mc', bins=50, range=(-3.0, 3.0), density=False, histtype='step')\n",
    "plt.hist(ele_eta.flatten(), label='reco', bins=50, range=(-3.0, 3.0), density=False, histtype='step')\n",
    "plt.legend()\n",
    "plt.xlabel('Electron $\\eta$')\n",
    "_ = plt.ylabel('Noramlized Counts')"
   ]
  },
  {
   "cell_type": "code",
   "execution_count": 9,
   "metadata": {},
   "outputs": [
    {
     "data": {
      "image/png": "[encoded data removed]",
      "text/plain": [
       "<Figure size 700x500 with 1 Axes>"
      ]
     },
     "metadata": {
      "needs_background": "light"
     },
     "output_type": "display_data"
    }
   ],
   "source": [
    "plt.hist(mc_ele_phi.flatten(), label='mc', bins=50, range=(0.0, 3.2), density=True, histtype='step')\n",
    "plt.hist(ele_phi.flatten(), label='reco', bins=50, range=(0.0, 3.2), density=True, histtype='step')\n",
    "plt.legend()\n",
    "plt.xlabel('Electron $\\phi$')\n",
    "_ = plt.ylabel('Noramlized Counts')"
   ]
  },
  {
   "cell_type": "markdown",
   "metadata": {},
   "source": [
    "From these plots, lets define good electrons as the following:"
   ]
  },
  {
   "cell_type": "code",
   "execution_count": 10,
   "metadata": {},
   "outputs": [],
   "source": [
    "good_mc_ele = mc_ele[(mc_ele.ptgev > 20) & (abs(mc_ele.eta) < 1.5)]\n",
    "good_eles = eles[(eles.ptgev > 20) & (abs(eles.eta) < 1.5)]"
   ]
  },
  {
   "cell_type": "markdown",
   "metadata": {},
   "source": [
    "Now lets look at the DeltaR between the electron MC's and look at that. We have to work around one lack of a feature in the current system - no way to sort."
   ]
  },
  {
   "cell_type": "code",
   "execution_count": 11,
   "metadata": {},
   "outputs": [],
   "source": [
    "def dr(e, mc):\n",
    "    'Make calculating DR easier as I have a hard-to-use DR calculation function on the back end'\n",
    "    return DeltaR(e.eta(), e.phi(), mc.eta(), mc.phi())\n",
    "\n",
    "@curry\n",
    "def near(mcs, e):\n",
    "    'Return all particles in mcs that are DR less than 0.5'\n",
    "    return mcs[lambda m: dr(e, m) < 0.5]\n",
    "\n",
    "# This gives us a list of events, and in each event, good electrons, and then for each good electron, all good MC electrons that are near by\n",
    "ele_mcs = good_eles.map(near(good_mc_ele))"
   ]
  },
  {
   "cell_type": "markdown",
   "metadata": {},
   "source": [
    "Lets see how this does - lets do a `Count` - which will return the number of MC particles close to each electron. `ele_mcs` is a list, with one entry for each event. In that entry, there is another list, with one entry for each electron. And in that entry, is a list for all MC electrons near by. If we want to count the contents of that last list, we need to apply the `Count` operator to it. This requires a `map`, as you'll see below.\n",
    "\n",
    "Also, I had some trouble getting this statement to work properly - as a result I turned on logging. You can see what it is sending to `servicex` behind your back using this. Left on as it is interesting, but not useful unless you are trying to understand how your expression is being translated."
   ]
  },
  {
   "cell_type": "code",
   "execution_count": 12,
   "metadata": {},
   "outputs": [
    {
     "data": {
      "application/vnd.jupyter.widget-view+json": {
       "model_id": "07d5844e4b234297bd98efb457addc14",
       "version_major": 2,
       "version_minor": 0
      },
      "text/plain": [
       "HBox(children=(FloatProgress(value=0.0, description='mc15_13TeV:mc15_13TeV.361106.PowhegPythia8EvtGen_AZNLOCTE…"
      ]
     },
     "metadata": {},
     "output_type": "display_data"
    },
    {
     "data": {
      "application/vnd.jupyter.widget-view+json": {
       "model_id": "a625323b20434014a524b987b5365bf6",
       "version_major": 2,
       "version_minor": 0
      },
      "text/plain": [
       "HBox(children=(FloatProgress(value=0.0, description='        Downloaded', layout=Layout(flex='2'), max=9000000…"
      ]
     },
     "metadata": {},
     "output_type": "display_data"
    },
    {
     "name": "stdout",
     "output_type": "stream",
     "text": [
      "\n",
      "\n",
      "Wall time: 2.34 s\n"
     ]
    }
   ],
   "source": [
    "%%time\n",
    "count_of_mc_near_each_e = make_local(ele_mcs.map(lambda e: e.Count()))"
   ]
  },
  {
   "cell_type": "code",
   "execution_count": 13,
   "metadata": {},
   "outputs": [
    {
     "name": "stdout",
     "output_type": "stream",
     "text": [
      "(array([7.74626e+05, 3.18150e+04, 1.98711e+05, 4.82129e+05, 3.83000e+02]), array([0. , 0.8, 1.6, 2.4, 3.2, 4. ]), <a list of 1 Patch objects>)\n"
     ]
    },
    {
     "data": {
      "image/png": "[encoded data removed]",
      "text/plain": [
       "<Figure size 700x500 with 1 Axes>"
      ]
     },
     "metadata": {
      "needs_background": "light"
     },
     "output_type": "display_data"
    }
   ],
   "source": [
    "cnt = plt.hist(count_of_mc_near_each_e.flatten(), range=(0,4), bins=5, histtype='step')\n",
    "plt.xlabel('Number MC electrons near a RECO Electron')\n",
    "print(cnt)"
   ]
  },
  {
   "cell_type": "markdown",
   "metadata": {},
   "source": [
    "Those zeros are very odd. It could be I have a bug in my backend/servicex implementation somewhere. I'd really like to look at a histogram of $Delta R$ - however due to a limitation in the `servicex` backend currently, it isn't possible (it does not return 2D arrays). Lets redo this, but with tighter cut on delta R."
   ]
  },
  {
   "cell_type": "code",
   "execution_count": 14,
   "metadata": {},
   "outputs": [],
   "source": [
    "@curry\n",
    "def very_near(mcs, e):\n",
    "    'Return all particles in mcs that are DR less than 0.5'\n",
    "    return mcs[lambda m: dr(e, m) < 0.01]\n",
    "\n",
    "# This gives us a list of events, and in each event, good electrons, and then for each good electron, all good MC electrons that are near by\n",
    "ele_neary_mcs = good_eles.map(very_near(good_mc_ele))"
   ]
  },
  {
   "cell_type": "code",
   "execution_count": 15,
   "metadata": {},
   "outputs": [
    {
     "data": {
      "application/vnd.jupyter.widget-view+json": {
       "model_id": "94f4467adfc945ee9255bae17f219dee",
       "version_major": 2,
       "version_minor": 0
      },
      "text/plain": [
       "HBox(children=(FloatProgress(value=0.0, description='mc15_13TeV:mc15_13TeV.361106.PowhegPythia8EvtGen_AZNLOCTE…"
      ]
     },
     "metadata": {},
     "output_type": "display_data"
    },
    {
     "data": {
      "application/vnd.jupyter.widget-view+json": {
       "model_id": "70e9aba8dfa74a2083c5f4ec78af44a8",
       "version_major": 2,
       "version_minor": 0
      },
      "text/plain": [
       "HBox(children=(FloatProgress(value=0.0, description='        Downloaded', layout=Layout(flex='2'), max=9000000…"
      ]
     },
     "metadata": {},
     "output_type": "display_data"
    },
    {
     "name": "stdout",
     "output_type": "stream",
     "text": [
      "\n",
      "\n"
     ]
    }
   ],
   "source": [
    "count_of_mc_very_near_each_e = make_local(ele_neary_mcs.map(lambda e: e.Count()))"
   ]
  },
  {
   "cell_type": "code",
   "execution_count": 16,
   "metadata": {},
   "outputs": [
    {
     "name": "stdout",
     "output_type": "stream",
     "text": [
      "(array([7.85830e+05, 4.17350e+04, 2.31967e+05, 4.27934e+05, 1.98000e+02]), array([0. , 0.8, 1.6, 2.4, 3.2, 4. ]), <a list of 1 Patch objects>)\n"
     ]
    },
    {
     "data": {
      "image/png": "[encoded data removed]",
      "text/plain": [
       "<Figure size 700x500 with 1 Axes>"
      ]
     },
     "metadata": {
      "needs_background": "light"
     },
     "output_type": "display_data"
    }
   ],
   "source": [
    "cnt = plt.hist(count_of_mc_very_near_each_e.flatten(), range=(0,4), bins=5, histtype='step')\n",
    "plt.xlabel('Number MC electrons near a RECO Electron')\n",
    "print(cnt)"
   ]
  },
  {
   "cell_type": "markdown",
   "metadata": {},
   "source": [
    "Refering to things this way is rather painful - that map. Instead, lets extend the good electron datamodel to help us out:"
   ]
  },
  {
   "cell_type": "code",
   "execution_count": 17,
   "metadata": {},
   "outputs": [],
   "source": [
    "def very_near2(mcs, e):\n",
    "    'Return all particles in mcs that are DR less than 0.5'\n",
    "    return mcs[lambda m: dr(e, m) < 0.1]\n",
    "\n",
    "good_eles['near_mcs'] = lambda reco_e: very_near2(good_mc_ele, reco_e)"
   ]
  },
  {
   "cell_type": "code",
   "execution_count": 18,
   "metadata": {},
   "outputs": [
    {
     "data": {
      "application/vnd.jupyter.widget-view+json": {
       "model_id": "a1a28df8083a4efeb7937993bb052b4b",
       "version_major": 2,
       "version_minor": 0
      },
      "text/plain": [
       "HBox(children=(FloatProgress(value=0.0, description='mc15_13TeV:mc15_13TeV.361106.PowhegPythia8EvtGen_AZNLOCTE…"
      ]
     },
     "metadata": {},
     "output_type": "display_data"
    },
    {
     "data": {
      "application/vnd.jupyter.widget-view+json": {
       "model_id": "c49aea85c63b4cb7a032e72eec8d06e7",
       "version_major": 2,
       "version_minor": 0
      },
      "text/plain": [
       "HBox(children=(FloatProgress(value=0.0, description='        Downloaded', layout=Layout(flex='2'), max=9000000…"
      ]
     },
     "metadata": {},
     "output_type": "display_data"
    },
    {
     "name": "stdout",
     "output_type": "stream",
     "text": [
      "\n",
      "\n"
     ]
    }
   ],
   "source": [
    "count_of_mc_very_near_each_e_v2 = make_local(good_eles.near_mcs.Count())"
   ]
  },
  {
   "cell_type": "code",
   "execution_count": 19,
   "metadata": {},
   "outputs": [
    {
     "data": {
      "text/plain": [
       "Text(0.5, 0, 'Number MC electrons near a RECO Electron')"
      ]
     },
     "execution_count": 19,
     "metadata": {},
     "output_type": "execute_result"
    },
    {
     "data": {
      "image/png": "[encoded data removed]",
      "text/plain": [
       "<Figure size 700x500 with 1 Axes>"
      ]
     },
     "metadata": {
      "needs_background": "light"
     },
     "output_type": "display_data"
    }
   ],
   "source": [
    "plt.hist(count_of_mc_very_near_each_e_v2.flatten(), range=(0,4), bins=5, histtype='step')\n",
    "plt.xlabel('Number MC electrons near a RECO Electron')"
   ]
  },
  {
   "cell_type": "code",
   "execution_count": 20,
   "metadata": {},
   "outputs": [],
   "source": [
    "good_eles['hasMC'] = lambda e: e.near_mcs.Count() > 0\n",
    "good_eles_with_mc = good_eles[good_eles.hasMC]\n",
    "good_eles_with_mc['mc'] = lambda e: e.near_mcs.First()"
   ]
  },
  {
   "cell_type": "code",
   "execution_count": 21,
   "metadata": {},
   "outputs": [
    {
     "data": {
      "application/vnd.jupyter.widget-view+json": {
       "model_id": "60a8c9e5f5064aea9f9e0e79da0d8077",
       "version_major": 2,
       "version_minor": 0
      },
      "text/plain": [
       "HBox(children=(FloatProgress(value=0.0, description='mc15_13TeV:mc15_13TeV.361106.PowhegPythia8EvtGen_AZNLOCTE…"
      ]
     },
     "metadata": {},
     "output_type": "display_data"
    },
    {
     "data": {
      "application/vnd.jupyter.widget-view+json": {
       "model_id": "88fde1458fb94dfba5c3739562c57439",
       "version_major": 2,
       "version_minor": 0
      },
      "text/plain": [
       "HBox(children=(FloatProgress(value=0.0, description='        Downloaded', layout=Layout(flex='2'), max=9000000…"
      ]
     },
     "metadata": {},
     "output_type": "display_data"
    },
    {
     "name": "stdout",
     "output_type": "stream",
     "text": [
      "\n",
      "\n"
     ]
    },
    {
     "data": {
      "application/vnd.jupyter.widget-view+json": {
       "model_id": "40240004f1764720a58ff3db54ddda00",
       "version_major": 2,
       "version_minor": 0
      },
      "text/plain": [
       "HBox(children=(FloatProgress(value=0.0, description='mc15_13TeV:mc15_13TeV.361106.PowhegPythia8EvtGen_AZNLOCTE…"
      ]
     },
     "metadata": {},
     "output_type": "display_data"
    },
    {
     "data": {
      "application/vnd.jupyter.widget-view+json": {
       "model_id": "bdcd50cb558947ae8d16c1dd306e42a2",
       "version_major": 2,
       "version_minor": 0
      },
      "text/plain": [
       "HBox(children=(FloatProgress(value=0.0, description='        Downloaded', layout=Layout(flex='2'), max=9000000…"
      ]
     },
     "metadata": {},
     "output_type": "display_data"
    },
    {
     "ename": "ServiceX_Exception",
     "evalue": "(ServiceX_Exception(...), 'ServiceX rejected the transformation request: (400){\\'message\\': \\'Failed to submit transform request: Failed to generate translation code: Internal Error: attempted to get C++ representation for AST note \"UnaryOp(op=Not(), operand=Compare(left=Call(func=Name(id=\\\\\\'Aggregate\\\\\\', ctx=Load()), args=[Call(func=Name(id=\\\\\\'Where\\\\\\', ctx=Load()), args=[Call(func=CPPCodeValue(), args=[Str(s=\\\\\\'TruthParticles\\\\\\')], keywords=[]), Lambda(args=arguments(args=[arg(arg=\\\\\\'arg_284\\\\\\')]), body=BoolOp(op=And(), values=[BoolOp(op=And(), values=[Compare(left=Call(func=Attribute(value=Name(id=\\\\\\'arg_284\\\\\\', ctx=Load()), attr=\\\\\\'pdgId\\\\\\', ctx=Load()), args=[], keywords=[]), ops=[Eq()], comparators=[Num(n=11)]), BoolOp(op=And(), values=[Compare(left=BinOp(left=Call(func=Attribute(value=Name(id=\\\\\\'arg_284\\\\\\', ctx=Load()), attr=\\\\\\'pt\\\\\\', ctx=Load()), args=[], keywords=[]), op=Div(), right=Num(n=1000.0)), ops=[Gt()], comparators=[Num(n=20)]), Compare(left=Call(func=FunctionAST(), args=[Call(func=Attribute(value=Name(id=\\\\\\'arg_284\\\\\\', ctx=Load()), attr=\\\\\\'eta\\\\\\', ctx=Load()), args=[], keywords=[])], keywords=[]), ops=[Lt()], comparators=[Num(n=1.5)])])]), Compare(left=Call(func=CPPCodeValue(), args=[Call(func=Attribute(value=Name(id=\\\\\\'arg_282\\\\\\', ctx=Load()), attr=\\\\\\'eta\\\\\\', ctx=Load()), args=[], keywords=[]), Call(func=Attribute(value=Name(id=\\\\\\'arg_282\\\\\\', ctx=Load()), attr=\\\\\\'phi\\\\\\', ctx=Load()), args=[], keywords=[]), Call(func=Attribute(value=Name(id=\\\\\\'arg_284\\\\\\', ctx=Load()), attr=\\\\\\'eta\\\\\\', ctx=Load()), args=[], keywords=[]), Call(func=Attribute(value=Name(id=\\\\\\'arg_284\\\\\\', ctx=Load()), attr=\\\\\\'phi\\\\\\', ctx=Load()), args=[], keywords=[])], keywords=[]), ops=[Lt()], comparators=[Num(n=0.1)])]))], keywords=[]), Num(n=0), Lambda(args=arguments(args=[arg(arg=\\\\\\'acc\\\\\\', annotation=None), arg(arg=\\\\\\'v\\\\\\', annotation=None)], vararg=None, kwonlyargs=[], kw_defaults=[], kwarg=None, defaults=[]), body=BinOp(left=Name(id=\\\\\\'acc\\\\\\', ctx=Load()), op=Add(), right=Num(n=1)))], keywords=[]), ops=[Gt()], comparators=[Num(n=0)]))\", but failed.\\'}')",
     "output_type": "error",
     "traceback": [
      "\u001b[1;31m---------------------------------------------------------------------------\u001b[0m",
      "\u001b[1;31mServiceX_Exception\u001b[0m                        Traceback (most recent call last)",
      "\u001b[1;32m<ipython-input-21-cf07d3ccb17b>\u001b[0m in \u001b[0;36m<module>\u001b[1;34m\u001b[0m\n\u001b[0;32m      1\u001b[0m \u001b[1;31m# logging.basicConfig(level=logging.DEBUG)\u001b[0m\u001b[1;33m\u001b[0m\u001b[1;33m\u001b[0m\u001b[1;33m\u001b[0m\u001b[0m\n\u001b[0;32m      2\u001b[0m \u001b[0mpts_with\u001b[0m \u001b[1;33m=\u001b[0m \u001b[0mmake_local\u001b[0m\u001b[1;33m(\u001b[0m\u001b[0mgood_eles\u001b[0m\u001b[1;33m[\u001b[0m\u001b[0mgood_eles\u001b[0m\u001b[1;33m.\u001b[0m\u001b[0mhasMC\u001b[0m\u001b[1;33m]\u001b[0m\u001b[1;33m.\u001b[0m\u001b[0mptgev\u001b[0m\u001b[1;33m)\u001b[0m\u001b[1;33m\u001b[0m\u001b[1;33m\u001b[0m\u001b[0m\n\u001b[1;32m----> 3\u001b[1;33m \u001b[0mpts_without\u001b[0m \u001b[1;33m=\u001b[0m \u001b[0mmake_local\u001b[0m\u001b[1;33m(\u001b[0m\u001b[0mgood_eles\u001b[0m\u001b[1;33m[\u001b[0m\u001b[1;33m~\u001b[0m\u001b[0mgood_eles\u001b[0m\u001b[1;33m.\u001b[0m\u001b[0mhasMC\u001b[0m\u001b[1;33m]\u001b[0m\u001b[1;33m.\u001b[0m\u001b[0mptgev\u001b[0m\u001b[1;33m)\u001b[0m\u001b[1;33m\u001b[0m\u001b[1;33m\u001b[0m\u001b[0m\n\u001b[0m",
      "\u001b[1;32mc:\\users\\gordo\\documents\\code\\iris-hep\\hep_tables\\hep_tables\\local.py\u001b[0m in \u001b[0;36mmake_local\u001b[1;34m(df, force_rerun)\u001b[0m\n\u001b[0;32m     69\u001b[0m     \u001b[1;32mif\u001b[0m \u001b[0misinstance\u001b[0m\u001b[1;33m(\u001b[0m\u001b[0mresult\u001b[0m\u001b[1;33m,\u001b[0m \u001b[0mObjectStream\u001b[0m\u001b[1;33m)\u001b[0m\u001b[1;33m:\u001b[0m\u001b[1;33m\u001b[0m\u001b[1;33m\u001b[0m\u001b[0m\n\u001b[0;32m     70\u001b[0m         \u001b[1;32mreturn\u001b[0m \u001b[0mresult\u001b[0m\u001b[1;33m.\u001b[0m\u001b[0mAsAwkwardArray\u001b[0m\u001b[1;33m(\u001b[0m\u001b[1;33m[\u001b[0m\u001b[1;34m'col1'\u001b[0m\u001b[1;33m]\u001b[0m\u001b[1;33m)\u001b[0m\u001b[0;31m \u001b[0m\u001b[0;31m\\\u001b[0m\u001b[1;33m\u001b[0m\u001b[1;33m\u001b[0m\u001b[0m\n\u001b[1;32m---> 71\u001b[1;33m             .value(lambda a:\n\u001b[0m\u001b[0;32m     72\u001b[0m                    use_exe_servicex(a, cached_results_OK=not force_rerun))[default_col_name]\n\u001b[0;32m     73\u001b[0m     \u001b[1;32melse\u001b[0m\u001b[1;33m:\u001b[0m\u001b[1;33m\u001b[0m\u001b[1;33m\u001b[0m\u001b[0m\n",
      "\u001b[1;32mc:\\users\\gordo\\documents\\code\\iris-hep\\hep_tables\\.venv\\lib\\site-packages\\func_adl\\ObjectStream.py\u001b[0m in \u001b[0;36mvalue\u001b[1;34m(self, executor)\u001b[0m\n\u001b[0;32m    171\u001b[0m         \u001b[0mnest_asyncio\u001b[0m\u001b[1;33m.\u001b[0m\u001b[0mapply\u001b[0m\u001b[1;33m(\u001b[0m\u001b[1;33m)\u001b[0m\u001b[1;33m\u001b[0m\u001b[1;33m\u001b[0m\u001b[0m\n\u001b[0;32m    172\u001b[0m         \u001b[0mloop\u001b[0m \u001b[1;33m=\u001b[0m \u001b[0masyncio\u001b[0m\u001b[1;33m.\u001b[0m\u001b[0mget_event_loop\u001b[0m\u001b[1;33m(\u001b[0m\u001b[1;33m)\u001b[0m\u001b[1;33m\u001b[0m\u001b[1;33m\u001b[0m\u001b[0m\n\u001b[1;32m--> 173\u001b[1;33m         \u001b[1;32mreturn\u001b[0m \u001b[0mloop\u001b[0m\u001b[1;33m.\u001b[0m\u001b[0mrun_until_complete\u001b[0m\u001b[1;33m(\u001b[0m\u001b[0mself\u001b[0m\u001b[1;33m.\u001b[0m\u001b[0mvalue_async\u001b[0m\u001b[1;33m(\u001b[0m\u001b[0mexecutor\u001b[0m\u001b[1;33m)\u001b[0m\u001b[1;33m)\u001b[0m\u001b[1;33m\u001b[0m\u001b[1;33m\u001b[0m\u001b[0m\n\u001b[0m",
      "\u001b[1;32mc:\\users\\gordo\\documents\\code\\iris-hep\\hep_tables\\.venv\\lib\\site-packages\\nest_asyncio.py\u001b[0m in \u001b[0;36mrun_until_complete\u001b[1;34m(self, future)\u001b[0m\n\u001b[0;32m     57\u001b[0m         \u001b[1;32mif\u001b[0m \u001b[1;32mnot\u001b[0m \u001b[0mf\u001b[0m\u001b[1;33m.\u001b[0m\u001b[0mdone\u001b[0m\u001b[1;33m(\u001b[0m\u001b[1;33m)\u001b[0m\u001b[1;33m:\u001b[0m\u001b[1;33m\u001b[0m\u001b[1;33m\u001b[0m\u001b[0m\n\u001b[0;32m     58\u001b[0m             \u001b[1;32mraise\u001b[0m \u001b[0mRuntimeError\u001b[0m\u001b[1;33m(\u001b[0m\u001b[1;34m'Event loop stopped before Future completed.'\u001b[0m\u001b[1;33m)\u001b[0m\u001b[1;33m\u001b[0m\u001b[1;33m\u001b[0m\u001b[0m\n\u001b[1;32m---> 59\u001b[1;33m         \u001b[1;32mreturn\u001b[0m \u001b[0mf\u001b[0m\u001b[1;33m.\u001b[0m\u001b[0mresult\u001b[0m\u001b[1;33m(\u001b[0m\u001b[1;33m)\u001b[0m\u001b[1;33m\u001b[0m\u001b[1;33m\u001b[0m\u001b[0m\n\u001b[0m\u001b[0;32m     60\u001b[0m \u001b[1;33m\u001b[0m\u001b[0m\n\u001b[0;32m     61\u001b[0m     \u001b[1;32mdef\u001b[0m \u001b[0m_run_once\u001b[0m\u001b[1;33m(\u001b[0m\u001b[0mself\u001b[0m\u001b[1;33m)\u001b[0m\u001b[1;33m:\u001b[0m\u001b[1;33m\u001b[0m\u001b[1;33m\u001b[0m\u001b[0m\n",
      "\u001b[1;32m~\\AppData\\Local\\Programs\\Python\\Python37\\lib\\asyncio\\futures.py\u001b[0m in \u001b[0;36mresult\u001b[1;34m(self)\u001b[0m\n\u001b[0;32m    179\u001b[0m         \u001b[0mself\u001b[0m\u001b[1;33m.\u001b[0m\u001b[0m__log_traceback\u001b[0m \u001b[1;33m=\u001b[0m \u001b[1;32mFalse\u001b[0m\u001b[1;33m\u001b[0m\u001b[1;33m\u001b[0m\u001b[0m\n\u001b[0;32m    180\u001b[0m         \u001b[1;32mif\u001b[0m \u001b[0mself\u001b[0m\u001b[1;33m.\u001b[0m\u001b[0m_exception\u001b[0m \u001b[1;32mis\u001b[0m \u001b[1;32mnot\u001b[0m \u001b[1;32mNone\u001b[0m\u001b[1;33m:\u001b[0m\u001b[1;33m\u001b[0m\u001b[1;33m\u001b[0m\u001b[0m\n\u001b[1;32m--> 181\u001b[1;33m             \u001b[1;32mraise\u001b[0m \u001b[0mself\u001b[0m\u001b[1;33m.\u001b[0m\u001b[0m_exception\u001b[0m\u001b[1;33m\u001b[0m\u001b[1;33m\u001b[0m\u001b[0m\n\u001b[0m\u001b[0;32m    182\u001b[0m         \u001b[1;32mreturn\u001b[0m \u001b[0mself\u001b[0m\u001b[1;33m.\u001b[0m\u001b[0m_result\u001b[0m\u001b[1;33m\u001b[0m\u001b[1;33m\u001b[0m\u001b[0m\n\u001b[0;32m    183\u001b[0m \u001b[1;33m\u001b[0m\u001b[0m\n",
      "\u001b[1;32m~\\AppData\\Local\\Programs\\Python\\Python37\\lib\\asyncio\\tasks.py\u001b[0m in \u001b[0;36m__step\u001b[1;34m(***failed resolving arguments***)\u001b[0m\n\u001b[0;32m    247\u001b[0m                 \u001b[1;31m# We use the `send` method directly, because coroutines\u001b[0m\u001b[1;33m\u001b[0m\u001b[1;33m\u001b[0m\u001b[1;33m\u001b[0m\u001b[0m\n\u001b[0;32m    248\u001b[0m                 \u001b[1;31m# don't have `__iter__` and `__next__` methods.\u001b[0m\u001b[1;33m\u001b[0m\u001b[1;33m\u001b[0m\u001b[1;33m\u001b[0m\u001b[0m\n\u001b[1;32m--> 249\u001b[1;33m                 \u001b[0mresult\u001b[0m \u001b[1;33m=\u001b[0m \u001b[0mcoro\u001b[0m\u001b[1;33m.\u001b[0m\u001b[0msend\u001b[0m\u001b[1;33m(\u001b[0m\u001b[1;32mNone\u001b[0m\u001b[1;33m)\u001b[0m\u001b[1;33m\u001b[0m\u001b[1;33m\u001b[0m\u001b[0m\n\u001b[0m\u001b[0;32m    250\u001b[0m             \u001b[1;32melse\u001b[0m\u001b[1;33m:\u001b[0m\u001b[1;33m\u001b[0m\u001b[1;33m\u001b[0m\u001b[0m\n\u001b[0;32m    251\u001b[0m                 \u001b[0mresult\u001b[0m \u001b[1;33m=\u001b[0m \u001b[0mcoro\u001b[0m\u001b[1;33m.\u001b[0m\u001b[0mthrow\u001b[0m\u001b[1;33m(\u001b[0m\u001b[0mexc\u001b[0m\u001b[1;33m)\u001b[0m\u001b[1;33m\u001b[0m\u001b[1;33m\u001b[0m\u001b[0m\n",
      "\u001b[1;32mc:\\users\\gordo\\documents\\code\\iris-hep\\hep_tables\\.venv\\lib\\site-packages\\func_adl\\ObjectStream.py\u001b[0m in \u001b[0;36mvalue_async\u001b[1;34m(self, executor)\u001b[0m\n\u001b[0;32m    152\u001b[0m \u001b[1;33m\u001b[0m\u001b[0m\n\u001b[0;32m    153\u001b[0m         \u001b[1;31m# We do not know if this thing is synchronous or not, so we have to wrap it in a task.\u001b[0m\u001b[1;33m\u001b[0m\u001b[1;33m\u001b[0m\u001b[1;33m\u001b[0m\u001b[0m\n\u001b[1;32m--> 154\u001b[1;33m         \u001b[1;32mreturn\u001b[0m \u001b[1;32mawait\u001b[0m \u001b[0mself\u001b[0m\u001b[1;33m.\u001b[0m\u001b[0m_exe_as_task\u001b[0m\u001b[1;33m(\u001b[0m\u001b[0mexe\u001b[0m\u001b[1;33m)\u001b[0m\u001b[1;33m\u001b[0m\u001b[1;33m\u001b[0m\u001b[0m\n\u001b[0m\u001b[0;32m    155\u001b[0m \u001b[1;33m\u001b[0m\u001b[0m\n\u001b[0;32m    156\u001b[0m     \u001b[1;32mdef\u001b[0m \u001b[0mvalue\u001b[0m\u001b[1;33m(\u001b[0m\u001b[0mself\u001b[0m\u001b[1;33m,\u001b[0m \u001b[0mexecutor\u001b[0m\u001b[1;33m:\u001b[0m \u001b[0mCallable\u001b[0m\u001b[1;33m[\u001b[0m\u001b[1;33m[\u001b[0m\u001b[0mast\u001b[0m\u001b[1;33m.\u001b[0m\u001b[0mAST\u001b[0m\u001b[1;33m]\u001b[0m\u001b[1;33m,\u001b[0m \u001b[0mAny\u001b[0m\u001b[1;33m]\u001b[0m \u001b[1;33m=\u001b[0m \u001b[1;32mNone\u001b[0m\u001b[1;33m)\u001b[0m \u001b[1;33m->\u001b[0m \u001b[0mAny\u001b[0m\u001b[1;33m:\u001b[0m\u001b[1;33m\u001b[0m\u001b[1;33m\u001b[0m\u001b[0m\n",
      "\u001b[1;32mc:\\users\\gordo\\documents\\code\\iris-hep\\hep_tables\\.venv\\lib\\site-packages\\func_adl\\ObjectStream.py\u001b[0m in \u001b[0;36m_exe_as_task\u001b[1;34m(self, executor)\u001b[0m\n\u001b[0;32m    132\u001b[0m \u001b[1;33m\u001b[0m\u001b[0m\n\u001b[0;32m    133\u001b[0m         \u001b[1;32mif\u001b[0m \u001b[0masyncio\u001b[0m\u001b[1;33m.\u001b[0m\u001b[0miscoroutine\u001b[0m\u001b[1;33m(\u001b[0m\u001b[0mr\u001b[0m\u001b[1;33m)\u001b[0m\u001b[1;33m:\u001b[0m\u001b[1;33m\u001b[0m\u001b[1;33m\u001b[0m\u001b[0m\n\u001b[1;32m--> 134\u001b[1;33m             \u001b[1;32mreturn\u001b[0m \u001b[1;32mawait\u001b[0m \u001b[0mr\u001b[0m\u001b[1;33m\u001b[0m\u001b[1;33m\u001b[0m\u001b[0m\n\u001b[0m\u001b[0;32m    135\u001b[0m         \u001b[1;32melse\u001b[0m\u001b[1;33m:\u001b[0m\u001b[1;33m\u001b[0m\u001b[1;33m\u001b[0m\u001b[0m\n\u001b[0;32m    136\u001b[0m             \u001b[1;32mreturn\u001b[0m \u001b[0mr\u001b[0m\u001b[1;33m\u001b[0m\u001b[1;33m\u001b[0m\u001b[0m\n",
      "\u001b[1;32mc:\\users\\gordo\\documents\\code\\iris-hep\\func_adl.xaod\\func_adl_xAOD\\use_exe_servicex.py\u001b[0m in \u001b[0;36muse_exe_servicex\u001b[1;34m(a, endpoint, cached_results_OK)\u001b[0m\n\u001b[0;32m    358\u001b[0m \u001b[1;33m\u001b[0m\u001b[0m\n\u001b[0;32m    359\u001b[0m     return await servicex.get_data_async(q_str, datasets, servicex_endpoint=endpoint, data_type=return_type,\n\u001b[1;32m--> 360\u001b[1;33m                                          use_cache=cached_results_OK)\n\u001b[0m",
      "\u001b[1;32mc:\\users\\gordo\\documents\\code\\iris-hep\\servicex_frontend\\servicex\\servicex.py\u001b[0m in \u001b[0;36mget_data_async\u001b[1;34m(selection_query, datasets, servicex_endpoint, data_type, image, max_workers, storage_directory, file_name_func, redownload_files, use_cache, status_callback)\u001b[0m\n\u001b[0;32m    304\u001b[0m     \u001b[1;32masync\u001b[0m \u001b[1;32mwith\u001b[0m \u001b[0maiohttp\u001b[0m\u001b[1;33m.\u001b[0m\u001b[0mClientSession\u001b[0m\u001b[1;33m(\u001b[0m\u001b[1;33m)\u001b[0m \u001b[1;32mas\u001b[0m \u001b[0mclient\u001b[0m\u001b[1;33m:\u001b[0m\u001b[1;33m\u001b[0m\u001b[1;33m\u001b[0m\u001b[0m\n\u001b[0;32m    305\u001b[0m         request_id = await _submit_or_lookup_transform(client, servicex_endpoint,\n\u001b[1;32m--> 306\u001b[1;33m                                                        use_cache, json_query)\n\u001b[0m\u001b[0;32m    307\u001b[0m \u001b[1;33m\u001b[0m\u001b[0m\n\u001b[0;32m    308\u001b[0m         \u001b[1;31m# Sit here waiting for the results to come in. In case there are missing items\u001b[0m\u001b[1;33m\u001b[0m\u001b[1;33m\u001b[0m\u001b[1;33m\u001b[0m\u001b[0m\n",
      "\u001b[1;32mc:\\users\\gordo\\documents\\code\\iris-hep\\servicex_frontend\\servicex\\utils.py\u001b[0m in \u001b[0;36m_submit_or_lookup_transform\u001b[1;34m(client, servicex_endpoint, use_cache, json_query)\u001b[0m\n\u001b[0;32m    129\u001b[0m         \u001b[0mr\u001b[0m \u001b[1;33m=\u001b[0m \u001b[1;32mawait\u001b[0m \u001b[0mresponse\u001b[0m\u001b[1;33m.\u001b[0m\u001b[0mjson\u001b[0m\u001b[1;33m(\u001b[0m\u001b[1;33m)\u001b[0m\u001b[1;33m\u001b[0m\u001b[1;33m\u001b[0m\u001b[0m\n\u001b[0;32m    130\u001b[0m         \u001b[1;32mif\u001b[0m \u001b[0mresponse\u001b[0m\u001b[1;33m.\u001b[0m\u001b[0mstatus\u001b[0m \u001b[1;33m!=\u001b[0m \u001b[1;36m200\u001b[0m\u001b[1;33m:\u001b[0m\u001b[1;33m\u001b[0m\u001b[1;33m\u001b[0m\u001b[0m\n\u001b[1;32m--> 131\u001b[1;33m             raise ServiceX_Exception('ServiceX rejected the transformation request: '\n\u001b[0m\u001b[0;32m    132\u001b[0m                                      f'({response.status}){r}')\n\u001b[0;32m    133\u001b[0m         \u001b[0mreq_id\u001b[0m \u001b[1;33m=\u001b[0m \u001b[0mr\u001b[0m\u001b[1;33m[\u001b[0m\u001b[1;34m\"request_id\"\u001b[0m\u001b[1;33m]\u001b[0m\u001b[1;33m\u001b[0m\u001b[1;33m\u001b[0m\u001b[0m\n",
      "\u001b[1;31mServiceX_Exception\u001b[0m: (ServiceX_Exception(...), 'ServiceX rejected the transformation request: (400){\\'message\\': \\'Failed to submit transform request: Failed to generate translation code: Internal Error: attempted to get C++ representation for AST note \"UnaryOp(op=Not(), operand=Compare(left=Call(func=Name(id=\\\\\\'Aggregate\\\\\\', ctx=Load()), args=[Call(func=Name(id=\\\\\\'Where\\\\\\', ctx=Load()), args=[Call(func=CPPCodeValue(), args=[Str(s=\\\\\\'TruthParticles\\\\\\')], keywords=[]), Lambda(args=arguments(args=[arg(arg=\\\\\\'arg_284\\\\\\')]), body=BoolOp(op=And(), values=[BoolOp(op=And(), values=[Compare(left=Call(func=Attribute(value=Name(id=\\\\\\'arg_284\\\\\\', ctx=Load()), attr=\\\\\\'pdgId\\\\\\', ctx=Load()), args=[], keywords=[]), ops=[Eq()], comparators=[Num(n=11)]), BoolOp(op=And(), values=[Compare(left=BinOp(left=Call(func=Attribute(value=Name(id=\\\\\\'arg_284\\\\\\', ctx=Load()), attr=\\\\\\'pt\\\\\\', ctx=Load()), args=[], keywords=[]), op=Div(), right=Num(n=1000.0)), ops=[Gt()], comparators=[Num(n=20)]), Compare(left=Call(func=FunctionAST(), args=[Call(func=Attribute(value=Name(id=\\\\\\'arg_284\\\\\\', ctx=Load()), attr=\\\\\\'eta\\\\\\', ctx=Load()), args=[], keywords=[])], keywords=[]), ops=[Lt()], comparators=[Num(n=1.5)])])]), Compare(left=Call(func=CPPCodeValue(), args=[Call(func=Attribute(value=Name(id=\\\\\\'arg_282\\\\\\', ctx=Load()), attr=\\\\\\'eta\\\\\\', ctx=Load()), args=[], keywords=[]), Call(func=Attribute(value=Name(id=\\\\\\'arg_282\\\\\\', ctx=Load()), attr=\\\\\\'phi\\\\\\', ctx=Load()), args=[], keywords=[]), Call(func=Attribute(value=Name(id=\\\\\\'arg_284\\\\\\', ctx=Load()), attr=\\\\\\'eta\\\\\\', ctx=Load()), args=[], keywords=[]), Call(func=Attribute(value=Name(id=\\\\\\'arg_284\\\\\\', ctx=Load()), attr=\\\\\\'phi\\\\\\', ctx=Load()), args=[], keywords=[])], keywords=[]), ops=[Lt()], comparators=[Num(n=0.1)])]))], keywords=[]), Num(n=0), Lambda(args=arguments(args=[arg(arg=\\\\\\'acc\\\\\\', annotation=None), arg(arg=\\\\\\'v\\\\\\', annotation=None)], vararg=None, kwonlyargs=[], kw_defaults=[], kwarg=None, defaults=[]), body=BinOp(left=Name(id=\\\\\\'acc\\\\\\', ctx=Load()), op=Add(), right=Num(n=1)))], keywords=[]), ops=[Gt()], comparators=[Num(n=0)]))\", but failed.\\'}')"
     ]
    }
   ],
   "source": [
    "# logging.basicConfig(level=logging.DEBUG)\n",
    "pts_with = make_local(good_eles[good_eles.hasMC].ptgev)\n",
    "pts_without = make_local(good_eles[~good_eles.hasMC].ptgev)"
   ]
  },
  {
   "cell_type": "code",
   "execution_count": null,
   "metadata": {},
   "outputs": [],
   "source": [
    "plt.hist(pts_with.flatten(), bins=50, range=(0,200))\n",
    "_ = plt.xlabel('Electron $p_T$ [GeV]')"
   ]
  },
  {
   "cell_type": "code",
   "execution_count": null,
   "metadata": {},
   "outputs": [],
   "source": [
    "resolution = make_local(good_eles_with_mc.mc.ptgev)"
   ]
  },
  {
   "cell_type": "code",
   "execution_count": null,
   "metadata": {},
   "outputs": [],
   "source": [
    "plt.hist(resolution.flatten(), bins=50, range=(0,200))\n",
    "_ = plt.xlabel('Electron $p_T$ [GeV]')"
   ]
  },
  {
   "cell_type": "code",
   "execution_count": null,
   "metadata": {},
   "outputs": [],
   "source": []
  }
 ],
 "metadata": {
  "kernelspec": {
   "display_name": "Python 3",
   "language": "python",
   "name": "python3"
  },
  "language_info": {
   "codemirror_mode": {
    "name": "ipython",
    "version": 3
   },
   "file_extension": ".py",
   "mimetype": "text/x-python",
   "name": "python",
   "nbconvert_exporter": "python",
   "pygments_lexer": "ipython3",
   "version": "3.7.7"
  }
 },
 "nbformat": 4,
 "nbformat_minor": 4
}
