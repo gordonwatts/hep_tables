{
 "cells": [
  {
   "cell_type": "markdown",
   "metadata": {},
   "source": [
    "# Multiple Objects\n",
    "\n",
    "A real analysis rarely deals with single objects - just one electron or one jet. More common are combinations of objects. The `hep_tables` package does this by leaning on the `map` function previously described and python's captured variables."
   ]
  },
  {
   "cell_type": "code",
   "execution_count": 1,
   "metadata": {},
   "outputs": [],
   "source": [
    "from hep_tables import xaod_table, make_local, curry\n",
    "from dataframe_expressions import user_func, define_alias\n",
    "from func_adl import EventDataset\n",
    "import matplotlib.pyplot as plt\n",
    "\n",
    "import numpy as np\n",
    "\n",
    "plt.rcParams.update({'figure.figsize':(7,5), 'figure.dpi':100})\n",
    "\n",
    "# Define DeltaR function availible on servicex (see the functions intro for more info)\n",
    "@user_func\n",
    "def DeltaR(p1_eta: float, p1_phi: float, p2_eta: float, p2_phi: float) -> float:\n",
    "    '''\n",
    "    Calculate the DeltaR between two particles given their `eta` and `phi` locations.\n",
    "    Implemented on the back end.\n",
    "    '''\n",
    "    assert False, 'This should never be called'\n",
    "    \n",
    "define_alias('', 'ptgev', lambda o: o.pt / 1000.0)\n",
    "\n",
    "import logging\n",
    "logging.getLogger('urllib3.connectionpool').setLevel(logging.WARNING)"
   ]
  },
  {
   "cell_type": "code",
   "execution_count": 2,
   "metadata": {},
   "outputs": [],
   "source": [
    "dataset = EventDataset('localds://mc15_13TeV:mc15_13TeV.361106.PowhegPythia8EvtGen_AZNLOCTEQ6L1_Zee.merge.DAOD_STDM3.e3601_s2576_s2132_r6630_r6264_p2363_tid05630052_00')\n",
    "df = xaod_table(dataset)"
   ]
  },
  {
   "cell_type": "markdown",
   "metadata": {},
   "source": [
    "## Matching the MC electron to the actual electron\n",
    "\n",
    "We need to look at the MC particles, select the electrons, and then match them to electrons in the actual dataset. I've not done this in this dataset before, so I'm going to have to feel my way a bit with a few plots to allow me to understand what is going on.\n",
    "\n",
    "First, lets get a plot of the MC electrons. I had to look up the pdg id (embarassing): `11` - Note that -11 isn't being used here because of a bug that this turned up in the backend (see [bug](https://github.com/iris-hep/func_adl_xAOD/issues/37))!"
   ]
  },
  {
   "cell_type": "code",
   "execution_count": 3,
   "metadata": {},
   "outputs": [],
   "source": [
    "mc_part = df.TruthParticles('TruthParticles')\n",
    "mc_ele = mc_part[(mc_part.pdgId == 11)]"
   ]
  },
  {
   "cell_type": "code",
   "execution_count": 4,
   "metadata": {},
   "outputs": [
    {
     "data": {
      "application/vnd.jupyter.widget-view+json": {
       "model_id": "c2435cca7cb6408b83a265bed4168b29",
       "version_major": 2,
       "version_minor": 0
      },
      "text/plain": [
       "HBox(children=(FloatProgress(value=0.0, description='mc15_13TeV:mc15_13TeV.361106.PowhegPythia8EvtGen_AZNLOCTE…"
      ]
     },
     "metadata": {},
     "output_type": "display_data"
    },
    {
     "data": {
      "application/vnd.jupyter.widget-view+json": {
       "model_id": "c2d3eb9b2af347bfacec0a915580a934",
       "version_major": 2,
       "version_minor": 0
      },
      "text/plain": [
       "HBox(children=(FloatProgress(value=0.0, description='        Downloaded', layout=Layout(flex='2'), max=9000000…"
      ]
     },
     "metadata": {},
     "output_type": "display_data"
    },
    {
     "name": "stdout",
     "output_type": "stream",
     "text": [
      "\n",
      "\n"
     ]
    },
    {
     "data": {
      "application/vnd.jupyter.widget-view+json": {
       "model_id": "9640613c0b744a2e94ccb9387eddfefe",
       "version_major": 2,
       "version_minor": 0
      },
      "text/plain": [
       "HBox(children=(FloatProgress(value=0.0, description='mc15_13TeV:mc15_13TeV.361106.PowhegPythia8EvtGen_AZNLOCTE…"
      ]
     },
     "metadata": {},
     "output_type": "display_data"
    },
    {
     "data": {
      "application/vnd.jupyter.widget-view+json": {
       "model_id": "d1e318794f5545a08eb2d0f56831c210",
       "version_major": 2,
       "version_minor": 0
      },
      "text/plain": [
       "HBox(children=(FloatProgress(value=0.0, description='        Downloaded', layout=Layout(flex='2'), max=9000000…"
      ]
     },
     "metadata": {},
     "output_type": "display_data"
    },
    {
     "name": "stdout",
     "output_type": "stream",
     "text": [
      "\n",
      "\n"
     ]
    },
    {
     "data": {
      "application/vnd.jupyter.widget-view+json": {
       "model_id": "00ae5d11e87540ddbd51ccafcac15c05",
       "version_major": 2,
       "version_minor": 0
      },
      "text/plain": [
       "HBox(children=(FloatProgress(value=0.0, description='mc15_13TeV:mc15_13TeV.361106.PowhegPythia8EvtGen_AZNLOCTE…"
      ]
     },
     "metadata": {},
     "output_type": "display_data"
    },
    {
     "data": {
      "application/vnd.jupyter.widget-view+json": {
       "model_id": "902ccd35883c449793a4440979b0b120",
       "version_major": 2,
       "version_minor": 0
      },
      "text/plain": [
       "HBox(children=(FloatProgress(value=0.0, description='        Downloaded', layout=Layout(flex='2'), max=9000000…"
      ]
     },
     "metadata": {},
     "output_type": "display_data"
    },
    {
     "name": "stdout",
     "output_type": "stream",
     "text": [
      "\n",
      "\n"
     ]
    }
   ],
   "source": [
    "mc_ele_pt = make_local(mc_ele.ptgev)\n",
    "mc_ele_eta = make_local(mc_ele.eta)\n",
    "mc_ele_phi = make_local(mc_ele.phi)"
   ]
  },
  {
   "cell_type": "code",
   "execution_count": 5,
   "metadata": {},
   "outputs": [],
   "source": [
    "eles = df.Electrons('Electrons')"
   ]
  },
  {
   "cell_type": "code",
   "execution_count": 6,
   "metadata": {},
   "outputs": [
    {
     "data": {
      "application/vnd.jupyter.widget-view+json": {
       "model_id": "2ff714a7e38c478cab3f124cc6d9fd2c",
       "version_major": 2,
       "version_minor": 0
      },
      "text/plain": [
       "HBox(children=(FloatProgress(value=0.0, description='mc15_13TeV:mc15_13TeV.361106.PowhegPythia8EvtGen_AZNLOCTE…"
      ]
     },
     "metadata": {},
     "output_type": "display_data"
    },
    {
     "data": {
      "application/vnd.jupyter.widget-view+json": {
       "model_id": "47cf30a22e0647a0b4c9ad66f6401d78",
       "version_major": 2,
       "version_minor": 0
      },
      "text/plain": [
       "HBox(children=(FloatProgress(value=0.0, description='        Downloaded', layout=Layout(flex='2'), max=9000000…"
      ]
     },
     "metadata": {},
     "output_type": "display_data"
    },
    {
     "name": "stdout",
     "output_type": "stream",
     "text": [
      "\n",
      "\n"
     ]
    },
    {
     "data": {
      "application/vnd.jupyter.widget-view+json": {
       "model_id": "f064bc81dc08443aad464c623b140c01",
       "version_major": 2,
       "version_minor": 0
      },
      "text/plain": [
       "HBox(children=(FloatProgress(value=0.0, description='mc15_13TeV:mc15_13TeV.361106.PowhegPythia8EvtGen_AZNLOCTE…"
      ]
     },
     "metadata": {},
     "output_type": "display_data"
    },
    {
     "data": {
      "application/vnd.jupyter.widget-view+json": {
       "model_id": "afd794a07bb948dab4fb901b74d90f61",
       "version_major": 2,
       "version_minor": 0
      },
      "text/plain": [
       "HBox(children=(FloatProgress(value=0.0, description='        Downloaded', layout=Layout(flex='2'), max=9000000…"
      ]
     },
     "metadata": {},
     "output_type": "display_data"
    },
    {
     "name": "stdout",
     "output_type": "stream",
     "text": [
      "\n",
      "\n"
     ]
    },
    {
     "data": {
      "application/vnd.jupyter.widget-view+json": {
       "model_id": "62785bdc642c444aa9ae1385b76e1eb2",
       "version_major": 2,
       "version_minor": 0
      },
      "text/plain": [
       "HBox(children=(FloatProgress(value=0.0, description='mc15_13TeV:mc15_13TeV.361106.PowhegPythia8EvtGen_AZNLOCTE…"
      ]
     },
     "metadata": {},
     "output_type": "display_data"
    },
    {
     "data": {
      "application/vnd.jupyter.widget-view+json": {
       "model_id": "50981a3250c9497ba0fdfb70bb4fb0ae",
       "version_major": 2,
       "version_minor": 0
      },
      "text/plain": [
       "HBox(children=(FloatProgress(value=0.0, description='        Downloaded', layout=Layout(flex='2'), max=9000000…"
      ]
     },
     "metadata": {},
     "output_type": "display_data"
    },
    {
     "name": "stdout",
     "output_type": "stream",
     "text": [
      "\n",
      "\n",
      "Wall time: 10.2 s\n"
     ]
    }
   ],
   "source": [
    "%%time\n",
    "ele_pt = make_local(eles.ptgev)\n",
    "ele_eta = make_local(eles.eta)\n",
    "ele_phi = make_local(eles.phi)"
   ]
  },
  {
   "cell_type": "code",
   "execution_count": 7,
   "metadata": {},
   "outputs": [
    {
     "name": "stderr",
     "output_type": "stream",
     "text": [
      "c:\\users\\gordo\\documents\\code\\iris-hep\\hep_tables\\.venv\\lib\\site-packages\\numpy\\lib\\histograms.py:839: RuntimeWarning: invalid value encountered in greater_equal\n",
      "  keep = (tmp_a >= first_edge)\n",
      "c:\\users\\gordo\\documents\\code\\iris-hep\\hep_tables\\.venv\\lib\\site-packages\\numpy\\lib\\histograms.py:840: RuntimeWarning: invalid value encountered in less_equal\n",
      "  keep &= (tmp_a <= last_edge)\n"
     ]
    },
    {
     "data": {
      "image/png": "[encoded data removed]",
      "text/plain": [
       "<Figure size 700x500 with 1 Axes>"
      ]
     },
     "metadata": {
      "needs_background": "light"
     },
     "output_type": "display_data"
    }
   ],
   "source": [
    "plt.hist(mc_ele_pt.flatten(), label='mc', bins=50, range=(0.0, 200.0), density=False, histtype='step')\n",
    "plt.hist(ele_pt.flatten(), label='reco', bins=50, range=(0.0, 200.0), density=False, histtype='step')\n",
    "plt.legend()\n",
    "plt.xlabel('Electron $p_T$')\n",
    "_ = plt.ylabel('Noramlized Counts')"
   ]
  },
  {
   "cell_type": "code",
   "execution_count": 8,
   "metadata": {},
   "outputs": [
    {
     "data": {
      "image/png": "[encoded data removed]",
      "text/plain": [
       "<Figure size 700x500 with 1 Axes>"
      ]
     },
     "metadata": {
      "needs_background": "light"
     },
     "output_type": "display_data"
    }
   ],
   "source": [
    "plt.hist(mc_ele_eta.flatten(), label='mc', bins=50, range=(-3.0, 3.0), density=False, histtype='step')\n",
    "plt.hist(ele_eta.flatten(), label='reco', bins=50, range=(-3.0, 3.0), density=False, histtype='step')\n",
    "plt.legend()\n",
    "plt.xlabel('Electron $\\eta$')\n",
    "_ = plt.ylabel('Noramlized Counts')"
   ]
  },
  {
   "cell_type": "code",
   "execution_count": 9,
   "metadata": {},
   "outputs": [
    {
     "data": {
      "image/png": "[encoded data removed]",
      "text/plain": [
       "<Figure size 700x500 with 1 Axes>"
      ]
     },
     "metadata": {
      "needs_background": "light"
     },
     "output_type": "display_data"
    }
   ],
   "source": [
    "plt.hist(mc_ele_phi.flatten(), label='mc', bins=50, range=(0.0, 3.2), density=True, histtype='step')\n",
    "plt.hist(ele_phi.flatten(), label='reco', bins=50, range=(0.0, 3.2), density=True, histtype='step')\n",
    "plt.legend()\n",
    "plt.xlabel('Electron $\\phi$')\n",
    "_ = plt.ylabel('Noramlized Counts')"
   ]
  },
  {
   "cell_type": "markdown",
   "metadata": {},
   "source": [
    "From these plots, lets define good electrons as the following:"
   ]
  },
  {
   "cell_type": "code",
   "execution_count": 10,
   "metadata": {},
   "outputs": [],
   "source": [
    "good_mc_ele = mc_ele[(mc_ele.ptgev > 20) & (abs(mc_ele.eta) < 1.5)]\n",
    "good_eles = eles[(eles.ptgev > 20) & (abs(eles.eta) < 1.5)]"
   ]
  },
  {
   "cell_type": "markdown",
   "metadata": {},
   "source": [
    "Now lets look at the DeltaR between the electron MC's and look at that. We have to work around one lack of a feature in the current system - no way to sort."
   ]
  },
  {
   "cell_type": "code",
   "execution_count": 11,
   "metadata": {},
   "outputs": [],
   "source": [
    "def dr(e, mc):\n",
    "    'Make calculating DR easier as I have a hard-to-use DR calculation function on the back end'\n",
    "    return DeltaR(e.eta(), e.phi(), mc.eta(), mc.phi())\n",
    "\n",
    "@curry\n",
    "def near(mcs, e):\n",
    "    'Return all particles in mcs that are DR less than 0.5'\n",
    "    return mcs[lambda m: dr(e, m) < 0.5]\n",
    "\n",
    "# This gives us a list of events, and in each event, good electrons, and then for each good electron, all good MC electrons that are near by\n",
    "ele_mcs = good_eles.map(near(good_mc_ele))"
   ]
  },
  {
   "cell_type": "markdown",
   "metadata": {},
   "source": [
    "Lets see how this does - lets do a `Count` - which will return the number of MC particles close to each electron. `ele_mcs` is a list, with one entry for each event. In that entry, there is another list, with one entry for each electron. And in that entry, is a list for all MC electrons near by. If we want to count the contents of that last list, we need to apply the `Count` operator to it. This requires a `map`, as you'll see below.\n",
    "\n",
    "Also, I had some trouble getting this statement to work properly - as a result I turned on logging. You can see what it is sending to `servicex` behind your back using this. Left on as it is interesting, but not useful unless you are trying to understand how your expression is being translated."
   ]
  },
  {
   "cell_type": "code",
   "execution_count": 12,
   "metadata": {},
   "outputs": [
    {
     "data": {
      "application/vnd.jupyter.widget-view+json": {
       "model_id": "1565343a8b70463fb21fd6de44d8a0ae",
       "version_major": 2,
       "version_minor": 0
      },
      "text/plain": [
       "HBox(children=(FloatProgress(value=0.0, description='mc15_13TeV:mc15_13TeV.361106.PowhegPythia8EvtGen_AZNLOCTE…"
      ]
     },
     "metadata": {},
     "output_type": "display_data"
    },
    {
     "data": {
      "application/vnd.jupyter.widget-view+json": {
       "model_id": "64f2a3b5bab246ee8a8412392172cacf",
       "version_major": 2,
       "version_minor": 0
      },
      "text/plain": [
       "HBox(children=(FloatProgress(value=0.0, description='        Downloaded', layout=Layout(flex='2'), max=9000000…"
      ]
     },
     "metadata": {},
     "output_type": "display_data"
    },
    {
     "name": "stdout",
     "output_type": "stream",
     "text": [
      "\n",
      "\n",
      "Wall time: 2.17 s\n"
     ]
    }
   ],
   "source": [
    "%%time\n",
    "count_of_mc_near_each_e = make_local(ele_mcs.map(lambda e: e.Count()))"
   ]
  },
  {
   "cell_type": "code",
   "execution_count": 13,
   "metadata": {},
   "outputs": [
    {
     "name": "stdout",
     "output_type": "stream",
     "text": [
      "(array([7.74626e+05, 3.18150e+04, 1.98711e+05, 4.82129e+05, 3.83000e+02]), array([0. , 0.8, 1.6, 2.4, 3.2, 4. ]), <a list of 1 Patch objects>)\n"
     ]
    },
    {
     "data": {
      "image/png": "[encoded data removed]",
      "text/plain": [
       "<Figure size 700x500 with 1 Axes>"
      ]
     },
     "metadata": {
      "needs_background": "light"
     },
     "output_type": "display_data"
    }
   ],
   "source": [
    "cnt = plt.hist(count_of_mc_near_each_e.flatten(), range=(0,4), bins=5, histtype='step')\n",
    "plt.xlabel('Number MC electrons near a RECO Electron')\n",
    "print(cnt)"
   ]
  },
  {
   "cell_type": "markdown",
   "metadata": {},
   "source": [
    "Those zeros are very odd. It could be I have a bug in my backend/servicex implementation somewhere. I'd really like to look at a histogram of $Delta R$ - however due to a limitation in the `servicex` backend currently, it isn't possible (it does not return 2D arrays). Lets redo this, but with tighter cut on delta R."
   ]
  },
  {
   "cell_type": "code",
   "execution_count": 14,
   "metadata": {},
   "outputs": [],
   "source": [
    "@curry\n",
    "def very_near(mcs, e):\n",
    "    'Return all particles in mcs that are DR less than 0.5'\n",
    "    return mcs[lambda m: dr(e, m) < 0.01]\n",
    "\n",
    "# This gives us a list of events, and in each event, good electrons, and then for each good electron, all good MC electrons that are near by\n",
    "ele_neary_mcs = good_eles.map(very_near(good_mc_ele))"
   ]
  },
  {
   "cell_type": "code",
   "execution_count": 15,
   "metadata": {},
   "outputs": [
    {
     "data": {
      "application/vnd.jupyter.widget-view+json": {
       "model_id": "9f2047a4e1124d189448e175c90b9303",
       "version_major": 2,
       "version_minor": 0
      },
      "text/plain": [
       "HBox(children=(FloatProgress(value=0.0, description='mc15_13TeV:mc15_13TeV.361106.PowhegPythia8EvtGen_AZNLOCTE…"
      ]
     },
     "metadata": {},
     "output_type": "display_data"
    },
    {
     "data": {
      "application/vnd.jupyter.widget-view+json": {
       "model_id": "872d05b8b24b48c59d9070cac0ec88d8",
       "version_major": 2,
       "version_minor": 0
      },
      "text/plain": [
       "HBox(children=(FloatProgress(value=0.0, description='        Downloaded', layout=Layout(flex='2'), max=9000000…"
      ]
     },
     "metadata": {},
     "output_type": "display_data"
    },
    {
     "name": "stdout",
     "output_type": "stream",
     "text": [
      "\n",
      "\n"
     ]
    }
   ],
   "source": [
    "count_of_mc_very_near_each_e = make_local(ele_neary_mcs.map(lambda e: e.Count()))"
   ]
  },
  {
   "cell_type": "code",
   "execution_count": 16,
   "metadata": {},
   "outputs": [
    {
     "name": "stdout",
     "output_type": "stream",
     "text": [
      "(array([7.85830e+05, 4.17350e+04, 2.31967e+05, 4.27934e+05, 1.98000e+02]), array([0. , 0.8, 1.6, 2.4, 3.2, 4. ]), <a list of 1 Patch objects>)\n"
     ]
    },
    {
     "data": {
      "image/png": "[encoded data removed]",
      "text/plain": [
       "<Figure size 700x500 with 1 Axes>"
      ]
     },
     "metadata": {
      "needs_background": "light"
     },
     "output_type": "display_data"
    }
   ],
   "source": [
    "cnt = plt.hist(count_of_mc_very_near_each_e.flatten(), range=(0,4), bins=5, histtype='step')\n",
    "plt.xlabel('Number MC electrons near a RECO Electron')\n",
    "print(cnt)"
   ]
  },
  {
   "cell_type": "markdown",
   "metadata": {},
   "source": [
    "Refering to things this way is rather painful - that map. Instead, lets extend the good electron datamodel to help us out:"
   ]
  },
  {
   "cell_type": "code",
   "execution_count": 17,
   "metadata": {},
   "outputs": [],
   "source": [
    "def very_near2(mcs, e):\n",
    "    'Return all particles in mcs that are DR less than 0.5'\n",
    "    return mcs[lambda m: dr(e, m) < 0.1]\n",
    "\n",
    "good_eles['near_mcs'] = lambda reco_e: very_near2(good_mc_ele, reco_e)"
   ]
  },
  {
   "cell_type": "code",
   "execution_count": 18,
   "metadata": {},
   "outputs": [
    {
     "data": {
      "application/vnd.jupyter.widget-view+json": {
       "model_id": "fa6bc9ac53e3444dafcb6de613acb79a",
       "version_major": 2,
       "version_minor": 0
      },
      "text/plain": [
       "HBox(children=(FloatProgress(value=0.0, description='mc15_13TeV:mc15_13TeV.361106.PowhegPythia8EvtGen_AZNLOCTE…"
      ]
     },
     "metadata": {},
     "output_type": "display_data"
    },
    {
     "data": {
      "application/vnd.jupyter.widget-view+json": {
       "model_id": "b94e98d46eb7436aa85cc4ed3aef6f5c",
       "version_major": 2,
       "version_minor": 0
      },
      "text/plain": [
       "HBox(children=(FloatProgress(value=0.0, description='        Downloaded', layout=Layout(flex='2'), max=9000000…"
      ]
     },
     "metadata": {},
     "output_type": "display_data"
    },
    {
     "name": "stdout",
     "output_type": "stream",
     "text": [
      "\n",
      "\n"
     ]
    }
   ],
   "source": [
    "count_of_mc_very_near_each_e_v2 = make_local(good_eles.near_mcs.Count())"
   ]
  },
  {
   "cell_type": "code",
   "execution_count": 19,
   "metadata": {},
   "outputs": [
    {
     "data": {
      "text/plain": [
       "Text(0.5, 0, 'Number MC electrons near a RECO Electron')"
      ]
     },
     "execution_count": 19,
     "metadata": {},
     "output_type": "execute_result"
    },
    {
     "data": {
      "image/png": "[encoded data removed]",
      "text/plain": [
       "<Figure size 700x500 with 1 Axes>"
      ]
     },
     "metadata": {
      "needs_background": "light"
     },
     "output_type": "display_data"
    }
   ],
   "source": [
    "plt.hist(count_of_mc_very_near_each_e_v2.flatten(), range=(0,4), bins=5, histtype='step')\n",
    "plt.xlabel('Number MC electrons near a RECO Electron')"
   ]
  },
  {
   "cell_type": "code",
   "execution_count": 20,
   "metadata": {},
   "outputs": [],
   "source": [
    "good_eles['hasMC'] = lambda e: e.near_mcs.Count() > 0\n",
    "good_eles_with_mc = good_eles[good_eles.hasMC]\n",
    "good_eles_with_mc['mc'] = lambda e: e.near_mcs.First()"
   ]
  },
  {
   "cell_type": "code",
   "execution_count": 21,
   "metadata": {},
   "outputs": [
    {
     "data": {
      "application/vnd.jupyter.widget-view+json": {
       "model_id": "39b87034c7bc4862ac74b2734c18f140",
       "version_major": 2,
       "version_minor": 0
      },
      "text/plain": [
       "HBox(children=(FloatProgress(value=0.0, description='mc15_13TeV:mc15_13TeV.361106.PowhegPythia8EvtGen_AZNLOCTE…"
      ]
     },
     "metadata": {},
     "output_type": "display_data"
    },
    {
     "data": {
      "application/vnd.jupyter.widget-view+json": {
       "model_id": "c691a7f9416145039e514215c468b0ec",
       "version_major": 2,
       "version_minor": 0
      },
      "text/plain": [
       "HBox(children=(FloatProgress(value=0.0, description='        Downloaded', layout=Layout(flex='2'), max=9000000…"
      ]
     },
     "metadata": {},
     "output_type": "display_data"
    },
    {
     "name": "stdout",
     "output_type": "stream",
     "text": [
      "\n",
      "\n"
     ]
    },
    {
     "data": {
      "application/vnd.jupyter.widget-view+json": {
       "model_id": "0302e13a37e3422292ae6967549f2e97",
       "version_major": 2,
       "version_minor": 0
      },
      "text/plain": [
       "HBox(children=(FloatProgress(value=0.0, description='mc15_13TeV:mc15_13TeV.361106.PowhegPythia8EvtGen_AZNLOCTE…"
      ]
     },
     "metadata": {},
     "output_type": "display_data"
    },
    {
     "data": {
      "application/vnd.jupyter.widget-view+json": {
       "model_id": "5c1abc9552994a06bd2edc07dbdef5f5",
       "version_major": 2,
       "version_minor": 0
      },
      "text/plain": [
       "HBox(children=(FloatProgress(value=0.0, description='        Downloaded', layout=Layout(flex='2'), max=9000000…"
      ]
     },
     "metadata": {},
     "output_type": "display_data"
    },
    {
     "ename": "ServiceX_Exception",
     "evalue": "(ServiceX_Exception(...), 'ServiceX rejected the transformation request: (400){\\'message\\': \\'Failed to submit transform request: Failed to generate translation code: Internal Error: attempted to get C++ representation for AST note \"UnaryOp(op=Not(), operand=Compare(left=Call(func=Name(id=\\\\\\'Aggregate\\\\\\', ctx=Load()), args=[Call(func=Name(id=\\\\\\'Where\\\\\\', ctx=Load()), args=[Call(func=CPPCodeValue(), args=[Str(s=\\\\\\'TruthParticles\\\\\\')], keywords=[]), Lambda(args=arguments(args=[arg(arg=\\\\\\'arg_300\\\\\\')]), body=BoolOp(op=And(), values=[BoolOp(op=And(), values=[Compare(left=Call(func=Attribute(value=Name(id=\\\\\\'arg_300\\\\\\', ctx=Load()), attr=\\\\\\'pdgId\\\\\\', ctx=Load()), args=[], keywords=[]), ops=[Eq()], comparators=[Num(n=11)]), BoolOp(op=And(), values=[Compare(left=BinOp(left=Call(func=Attribute(value=Name(id=\\\\\\'arg_300\\\\\\', ctx=Load()), attr=\\\\\\'pt\\\\\\', ctx=Load()), args=[], keywords=[]), op=Div(), right=Num(n=1000.0)), ops=[Gt()], comparators=[Num(n=20)]), Compare(left=Call(func=FunctionAST(), args=[Call(func=Attribute(value=Name(id=\\\\\\'arg_300\\\\\\', ctx=Load()), attr=\\\\\\'eta\\\\\\', ctx=Load()), args=[], keywords=[])], keywords=[]), ops=[Lt()], comparators=[Num(n=1.5)])])]), Compare(left=Call(func=CPPCodeValue(), args=[Call(func=Attribute(value=Name(id=\\\\\\'arg_298\\\\\\', ctx=Load()), attr=\\\\\\'eta\\\\\\', ctx=Load()), args=[], keywords=[]), Call(func=Attribute(value=Name(id=\\\\\\'arg_298\\\\\\', ctx=Load()), attr=\\\\\\'phi\\\\\\', ctx=Load()), args=[], keywords=[]), Call(func=Attribute(value=Name(id=\\\\\\'arg_300\\\\\\', ctx=Load()), attr=\\\\\\'eta\\\\\\', ctx=Load()), args=[], keywords=[]), Call(func=Attribute(value=Name(id=\\\\\\'arg_300\\\\\\', ctx=Load()), attr=\\\\\\'phi\\\\\\', ctx=Load()), args=[], keywords=[])], keywords=[]), ops=[Lt()], comparators=[Num(n=0.1)])]))], keywords=[]), Num(n=0), Lambda(args=arguments(args=[arg(arg=\\\\\\'acc\\\\\\', annotation=None), arg(arg=\\\\\\'v\\\\\\', annotation=None)], vararg=None, kwonlyargs=[], kw_defaults=[], kwarg=None, defaults=[]), body=BinOp(left=Name(id=\\\\\\'acc\\\\\\', ctx=Load()), op=Add(), right=Num(n=1)))], keywords=[]), ops=[Gt()], comparators=[Num(n=0)]))\", but failed.\\'}')",
     "output_type": "error",
     "traceback": [
      "\u001b[1;31m---------------------------------------------------------------------------\u001b[0m",
      "\u001b[1;31mServiceX_Exception\u001b[0m                        Traceback (most recent call last)",
      "\u001b[1;32m<ipython-input-21-cf07d3ccb17b>\u001b[0m in \u001b[0;36m<module>\u001b[1;34m\u001b[0m\n\u001b[0;32m      1\u001b[0m \u001b[1;31m# logging.basicConfig(level=logging.DEBUG)\u001b[0m\u001b[1;33m\u001b[0m\u001b[1;33m\u001b[0m\u001b[1;33m\u001b[0m\u001b[0m\n\u001b[0;32m      2\u001b[0m \u001b[0mpts_with\u001b[0m \u001b[1;33m=\u001b[0m \u001b[0mmake_local\u001b[0m\u001b[1;33m(\u001b[0m\u001b[0mgood_eles\u001b[0m\u001b[1;33m[\u001b[0m\u001b[0mgood_eles\u001b[0m\u001b[1;33m.\u001b[0m\u001b[0mhasMC\u001b[0m\u001b[1;33m]\u001b[0m\u001b[1;33m.\u001b[0m\u001b[0mptgev\u001b[0m\u001b[1;33m)\u001b[0m\u001b[1;33m\u001b[0m\u001b[1;33m\u001b[0m\u001b[0m\n\u001b[1;32m----> 3\u001b[1;33m \u001b[0mpts_without\u001b[0m \u001b[1;33m=\u001b[0m \u001b[0mmake_local\u001b[0m\u001b[1;33m(\u001b[0m\u001b[0mgood_eles\u001b[0m\u001b[1;33m[\u001b[0m\u001b[1;33m~\u001b[0m\u001b[0mgood_eles\u001b[0m\u001b[1;33m.\u001b[0m\u001b[0mhasMC\u001b[0m\u001b[1;33m]\u001b[0m\u001b[1;33m.\u001b[0m\u001b[0mptgev\u001b[0m\u001b[1;33m)\u001b[0m\u001b[1;33m\u001b[0m\u001b[1;33m\u001b[0m\u001b[0m\n\u001b[0m",
      "\u001b[1;32mc:\\users\\gordo\\documents\\code\\iris-hep\\hep_tables\\hep_tables\\local.py\u001b[0m in \u001b[0;36mmake_local\u001b[1;34m(df, force_rerun)\u001b[0m\n\u001b[0;32m     69\u001b[0m     \u001b[1;32mif\u001b[0m \u001b[0misinstance\u001b[0m\u001b[1;33m(\u001b[0m\u001b[0mresult\u001b[0m\u001b[1;33m,\u001b[0m \u001b[0mObjectStream\u001b[0m\u001b[1;33m)\u001b[0m\u001b[1;33m:\u001b[0m\u001b[1;33m\u001b[0m\u001b[1;33m\u001b[0m\u001b[0m\n\u001b[0;32m     70\u001b[0m         \u001b[1;32mreturn\u001b[0m \u001b[0mresult\u001b[0m\u001b[1;33m.\u001b[0m\u001b[0mAsAwkwardArray\u001b[0m\u001b[1;33m(\u001b[0m\u001b[1;33m[\u001b[0m\u001b[1;34m'col1'\u001b[0m\u001b[1;33m]\u001b[0m\u001b[1;33m)\u001b[0m\u001b[0;31m \u001b[0m\u001b[0;31m\\\u001b[0m\u001b[1;33m\u001b[0m\u001b[1;33m\u001b[0m\u001b[0m\n\u001b[1;32m---> 71\u001b[1;33m             .value(lambda a:\n\u001b[0m\u001b[0;32m     72\u001b[0m                    use_exe_servicex(a, cached_results_OK=not force_rerun))[default_col_name]\n\u001b[0;32m     73\u001b[0m     \u001b[1;32melse\u001b[0m\u001b[1;33m:\u001b[0m\u001b[1;33m\u001b[0m\u001b[1;33m\u001b[0m\u001b[0m\n",
      "\u001b[1;32mc:\\users\\gordo\\documents\\code\\iris-hep\\hep_tables\\.venv\\lib\\site-packages\\func_adl\\ObjectStream.py\u001b[0m in \u001b[0;36mvalue\u001b[1;34m(self, executor)\u001b[0m\n\u001b[0;32m    171\u001b[0m         \u001b[0mnest_asyncio\u001b[0m\u001b[1;33m.\u001b[0m\u001b[0mapply\u001b[0m\u001b[1;33m(\u001b[0m\u001b[1;33m)\u001b[0m\u001b[1;33m\u001b[0m\u001b[1;33m\u001b[0m\u001b[0m\n\u001b[0;32m    172\u001b[0m         \u001b[0mloop\u001b[0m \u001b[1;33m=\u001b[0m \u001b[0masyncio\u001b[0m\u001b[1;33m.\u001b[0m\u001b[0mget_event_loop\u001b[0m\u001b[1;33m(\u001b[0m\u001b[1;33m)\u001b[0m\u001b[1;33m\u001b[0m\u001b[1;33m\u001b[0m\u001b[0m\n\u001b[1;32m--> 173\u001b[1;33m         \u001b[1;32mreturn\u001b[0m \u001b[0mloop\u001b[0m\u001b[1;33m.\u001b[0m\u001b[0mrun_until_complete\u001b[0m\u001b[1;33m(\u001b[0m\u001b[0mself\u001b[0m\u001b[1;33m.\u001b[0m\u001b[0mvalue_async\u001b[0m\u001b[1;33m(\u001b[0m\u001b[0mexecutor\u001b[0m\u001b[1;33m)\u001b[0m\u001b[1;33m)\u001b[0m\u001b[1;33m\u001b[0m\u001b[1;33m\u001b[0m\u001b[0m\n\u001b[0m",
      "\u001b[1;32mc:\\users\\gordo\\documents\\code\\iris-hep\\hep_tables\\.venv\\lib\\site-packages\\nest_asyncio.py\u001b[0m in \u001b[0;36mrun_until_complete\u001b[1;34m(self, future)\u001b[0m\n\u001b[0;32m     57\u001b[0m         \u001b[1;32mif\u001b[0m \u001b[1;32mnot\u001b[0m \u001b[0mf\u001b[0m\u001b[1;33m.\u001b[0m\u001b[0mdone\u001b[0m\u001b[1;33m(\u001b[0m\u001b[1;33m)\u001b[0m\u001b[1;33m:\u001b[0m\u001b[1;33m\u001b[0m\u001b[1;33m\u001b[0m\u001b[0m\n\u001b[0;32m     58\u001b[0m             \u001b[1;32mraise\u001b[0m \u001b[0mRuntimeError\u001b[0m\u001b[1;33m(\u001b[0m\u001b[1;34m'Event loop stopped before Future completed.'\u001b[0m\u001b[1;33m)\u001b[0m\u001b[1;33m\u001b[0m\u001b[1;33m\u001b[0m\u001b[0m\n\u001b[1;32m---> 59\u001b[1;33m         \u001b[1;32mreturn\u001b[0m \u001b[0mf\u001b[0m\u001b[1;33m.\u001b[0m\u001b[0mresult\u001b[0m\u001b[1;33m(\u001b[0m\u001b[1;33m)\u001b[0m\u001b[1;33m\u001b[0m\u001b[1;33m\u001b[0m\u001b[0m\n\u001b[0m\u001b[0;32m     60\u001b[0m \u001b[1;33m\u001b[0m\u001b[0m\n\u001b[0;32m     61\u001b[0m     \u001b[1;32mdef\u001b[0m \u001b[0m_run_once\u001b[0m\u001b[1;33m(\u001b[0m\u001b[0mself\u001b[0m\u001b[1;33m)\u001b[0m\u001b[1;33m:\u001b[0m\u001b[1;33m\u001b[0m\u001b[1;33m\u001b[0m\u001b[0m\n",
      "\u001b[1;32m~\\AppData\\Local\\Programs\\Python\\Python37\\lib\\asyncio\\futures.py\u001b[0m in \u001b[0;36mresult\u001b[1;34m(self)\u001b[0m\n\u001b[0;32m    179\u001b[0m         \u001b[0mself\u001b[0m\u001b[1;33m.\u001b[0m\u001b[0m__log_traceback\u001b[0m \u001b[1;33m=\u001b[0m \u001b[1;32mFalse\u001b[0m\u001b[1;33m\u001b[0m\u001b[1;33m\u001b[0m\u001b[0m\n\u001b[0;32m    180\u001b[0m         \u001b[1;32mif\u001b[0m \u001b[0mself\u001b[0m\u001b[1;33m.\u001b[0m\u001b[0m_exception\u001b[0m \u001b[1;32mis\u001b[0m \u001b[1;32mnot\u001b[0m \u001b[1;32mNone\u001b[0m\u001b[1;33m:\u001b[0m\u001b[1;33m\u001b[0m\u001b[1;33m\u001b[0m\u001b[0m\n\u001b[1;32m--> 181\u001b[1;33m             \u001b[1;32mraise\u001b[0m \u001b[0mself\u001b[0m\u001b[1;33m.\u001b[0m\u001b[0m_exception\u001b[0m\u001b[1;33m\u001b[0m\u001b[1;33m\u001b[0m\u001b[0m\n\u001b[0m\u001b[0;32m    182\u001b[0m         \u001b[1;32mreturn\u001b[0m \u001b[0mself\u001b[0m\u001b[1;33m.\u001b[0m\u001b[0m_result\u001b[0m\u001b[1;33m\u001b[0m\u001b[1;33m\u001b[0m\u001b[0m\n\u001b[0;32m    183\u001b[0m \u001b[1;33m\u001b[0m\u001b[0m\n",
      "\u001b[1;32m~\\AppData\\Local\\Programs\\Python\\Python37\\lib\\asyncio\\tasks.py\u001b[0m in \u001b[0;36m__step\u001b[1;34m(***failed resolving arguments***)\u001b[0m\n\u001b[0;32m    247\u001b[0m                 \u001b[1;31m# We use the `send` method directly, because coroutines\u001b[0m\u001b[1;33m\u001b[0m\u001b[1;33m\u001b[0m\u001b[1;33m\u001b[0m\u001b[0m\n\u001b[0;32m    248\u001b[0m                 \u001b[1;31m# don't have `__iter__` and `__next__` methods.\u001b[0m\u001b[1;33m\u001b[0m\u001b[1;33m\u001b[0m\u001b[1;33m\u001b[0m\u001b[0m\n\u001b[1;32m--> 249\u001b[1;33m                 \u001b[0mresult\u001b[0m \u001b[1;33m=\u001b[0m \u001b[0mcoro\u001b[0m\u001b[1;33m.\u001b[0m\u001b[0msend\u001b[0m\u001b[1;33m(\u001b[0m\u001b[1;32mNone\u001b[0m\u001b[1;33m)\u001b[0m\u001b[1;33m\u001b[0m\u001b[1;33m\u001b[0m\u001b[0m\n\u001b[0m\u001b[0;32m    250\u001b[0m             \u001b[1;32melse\u001b[0m\u001b[1;33m:\u001b[0m\u001b[1;33m\u001b[0m\u001b[1;33m\u001b[0m\u001b[0m\n\u001b[0;32m    251\u001b[0m                 \u001b[0mresult\u001b[0m \u001b[1;33m=\u001b[0m \u001b[0mcoro\u001b[0m\u001b[1;33m.\u001b[0m\u001b[0mthrow\u001b[0m\u001b[1;33m(\u001b[0m\u001b[0mexc\u001b[0m\u001b[1;33m)\u001b[0m\u001b[1;33m\u001b[0m\u001b[1;33m\u001b[0m\u001b[0m\n",
      "\u001b[1;32mc:\\users\\gordo\\documents\\code\\iris-hep\\hep_tables\\.venv\\lib\\site-packages\\func_adl\\ObjectStream.py\u001b[0m in \u001b[0;36mvalue_async\u001b[1;34m(self, executor)\u001b[0m\n\u001b[0;32m    152\u001b[0m \u001b[1;33m\u001b[0m\u001b[0m\n\u001b[0;32m    153\u001b[0m         \u001b[1;31m# We do not know if this thing is synchronous or not, so we have to wrap it in a task.\u001b[0m\u001b[1;33m\u001b[0m\u001b[1;33m\u001b[0m\u001b[1;33m\u001b[0m\u001b[0m\n\u001b[1;32m--> 154\u001b[1;33m         \u001b[1;32mreturn\u001b[0m \u001b[1;32mawait\u001b[0m \u001b[0mself\u001b[0m\u001b[1;33m.\u001b[0m\u001b[0m_exe_as_task\u001b[0m\u001b[1;33m(\u001b[0m\u001b[0mexe\u001b[0m\u001b[1;33m)\u001b[0m\u001b[1;33m\u001b[0m\u001b[1;33m\u001b[0m\u001b[0m\n\u001b[0m\u001b[0;32m    155\u001b[0m \u001b[1;33m\u001b[0m\u001b[0m\n\u001b[0;32m    156\u001b[0m     \u001b[1;32mdef\u001b[0m \u001b[0mvalue\u001b[0m\u001b[1;33m(\u001b[0m\u001b[0mself\u001b[0m\u001b[1;33m,\u001b[0m \u001b[0mexecutor\u001b[0m\u001b[1;33m:\u001b[0m \u001b[0mCallable\u001b[0m\u001b[1;33m[\u001b[0m\u001b[1;33m[\u001b[0m\u001b[0mast\u001b[0m\u001b[1;33m.\u001b[0m\u001b[0mAST\u001b[0m\u001b[1;33m]\u001b[0m\u001b[1;33m,\u001b[0m \u001b[0mAny\u001b[0m\u001b[1;33m]\u001b[0m \u001b[1;33m=\u001b[0m \u001b[1;32mNone\u001b[0m\u001b[1;33m)\u001b[0m \u001b[1;33m->\u001b[0m \u001b[0mAny\u001b[0m\u001b[1;33m:\u001b[0m\u001b[1;33m\u001b[0m\u001b[1;33m\u001b[0m\u001b[0m\n",
      "\u001b[1;32mc:\\users\\gordo\\documents\\code\\iris-hep\\hep_tables\\.venv\\lib\\site-packages\\func_adl\\ObjectStream.py\u001b[0m in \u001b[0;36m_exe_as_task\u001b[1;34m(self, executor)\u001b[0m\n\u001b[0;32m    132\u001b[0m \u001b[1;33m\u001b[0m\u001b[0m\n\u001b[0;32m    133\u001b[0m         \u001b[1;32mif\u001b[0m \u001b[0masyncio\u001b[0m\u001b[1;33m.\u001b[0m\u001b[0miscoroutine\u001b[0m\u001b[1;33m(\u001b[0m\u001b[0mr\u001b[0m\u001b[1;33m)\u001b[0m\u001b[1;33m:\u001b[0m\u001b[1;33m\u001b[0m\u001b[1;33m\u001b[0m\u001b[0m\n\u001b[1;32m--> 134\u001b[1;33m             \u001b[1;32mreturn\u001b[0m \u001b[1;32mawait\u001b[0m \u001b[0mr\u001b[0m\u001b[1;33m\u001b[0m\u001b[1;33m\u001b[0m\u001b[0m\n\u001b[0m\u001b[0;32m    135\u001b[0m         \u001b[1;32melse\u001b[0m\u001b[1;33m:\u001b[0m\u001b[1;33m\u001b[0m\u001b[1;33m\u001b[0m\u001b[0m\n\u001b[0;32m    136\u001b[0m             \u001b[1;32mreturn\u001b[0m \u001b[0mr\u001b[0m\u001b[1;33m\u001b[0m\u001b[1;33m\u001b[0m\u001b[0m\n",
      "\u001b[1;32mc:\\users\\gordo\\documents\\code\\iris-hep\\func_adl.xaod\\func_adl_xAOD\\use_exe_servicex.py\u001b[0m in \u001b[0;36muse_exe_servicex\u001b[1;34m(a, endpoint, cached_results_OK)\u001b[0m\n\u001b[0;32m    358\u001b[0m \u001b[1;33m\u001b[0m\u001b[0m\n\u001b[0;32m    359\u001b[0m     return await servicex.get_data_async(q_str, datasets, servicex_endpoint=endpoint, data_type=return_type,\n\u001b[1;32m--> 360\u001b[1;33m                                          use_cache=cached_results_OK)\n\u001b[0m",
      "\u001b[1;32mc:\\users\\gordo\\documents\\code\\iris-hep\\servicex_frontend\\servicex\\servicex.py\u001b[0m in \u001b[0;36mget_data_async\u001b[1;34m(selection_query, datasets, servicex_endpoint, data_type, image, max_workers, storage_directory, file_name_func, redownload_files, use_cache, status_callback)\u001b[0m\n\u001b[0;32m    304\u001b[0m     \u001b[1;32masync\u001b[0m \u001b[1;32mwith\u001b[0m \u001b[0maiohttp\u001b[0m\u001b[1;33m.\u001b[0m\u001b[0mClientSession\u001b[0m\u001b[1;33m(\u001b[0m\u001b[1;33m)\u001b[0m \u001b[1;32mas\u001b[0m \u001b[0mclient\u001b[0m\u001b[1;33m:\u001b[0m\u001b[1;33m\u001b[0m\u001b[1;33m\u001b[0m\u001b[0m\n\u001b[0;32m    305\u001b[0m         request_id = await _submit_or_lookup_transform(client, servicex_endpoint,\n\u001b[1;32m--> 306\u001b[1;33m                                                        use_cache, json_query)\n\u001b[0m\u001b[0;32m    307\u001b[0m \u001b[1;33m\u001b[0m\u001b[0m\n\u001b[0;32m    308\u001b[0m         \u001b[1;31m# Sit here waiting for the results to come in. In case there are missing items\u001b[0m\u001b[1;33m\u001b[0m\u001b[1;33m\u001b[0m\u001b[1;33m\u001b[0m\u001b[0m\n",
      "\u001b[1;32mc:\\users\\gordo\\documents\\code\\iris-hep\\servicex_frontend\\servicex\\utils.py\u001b[0m in \u001b[0;36m_submit_or_lookup_transform\u001b[1;34m(client, servicex_endpoint, use_cache, json_query)\u001b[0m\n\u001b[0;32m    129\u001b[0m         \u001b[0mr\u001b[0m \u001b[1;33m=\u001b[0m \u001b[1;32mawait\u001b[0m \u001b[0mresponse\u001b[0m\u001b[1;33m.\u001b[0m\u001b[0mjson\u001b[0m\u001b[1;33m(\u001b[0m\u001b[1;33m)\u001b[0m\u001b[1;33m\u001b[0m\u001b[1;33m\u001b[0m\u001b[0m\n\u001b[0;32m    130\u001b[0m         \u001b[1;32mif\u001b[0m \u001b[0mresponse\u001b[0m\u001b[1;33m.\u001b[0m\u001b[0mstatus\u001b[0m \u001b[1;33m!=\u001b[0m \u001b[1;36m200\u001b[0m\u001b[1;33m:\u001b[0m\u001b[1;33m\u001b[0m\u001b[1;33m\u001b[0m\u001b[0m\n\u001b[1;32m--> 131\u001b[1;33m             raise ServiceX_Exception('ServiceX rejected the transformation request: '\n\u001b[0m\u001b[0;32m    132\u001b[0m                                      f'({response.status}){r}')\n\u001b[0;32m    133\u001b[0m         \u001b[0mreq_id\u001b[0m \u001b[1;33m=\u001b[0m \u001b[0mr\u001b[0m\u001b[1;33m[\u001b[0m\u001b[1;34m\"request_id\"\u001b[0m\u001b[1;33m]\u001b[0m\u001b[1;33m\u001b[0m\u001b[1;33m\u001b[0m\u001b[0m\n",
      "\u001b[1;31mServiceX_Exception\u001b[0m: (ServiceX_Exception(...), 'ServiceX rejected the transformation request: (400){\\'message\\': \\'Failed to submit transform request: Failed to generate translation code: Internal Error: attempted to get C++ representation for AST note \"UnaryOp(op=Not(), operand=Compare(left=Call(func=Name(id=\\\\\\'Aggregate\\\\\\', ctx=Load()), args=[Call(func=Name(id=\\\\\\'Where\\\\\\', ctx=Load()), args=[Call(func=CPPCodeValue(), args=[Str(s=\\\\\\'TruthParticles\\\\\\')], keywords=[]), Lambda(args=arguments(args=[arg(arg=\\\\\\'arg_300\\\\\\')]), body=BoolOp(op=And(), values=[BoolOp(op=And(), values=[Compare(left=Call(func=Attribute(value=Name(id=\\\\\\'arg_300\\\\\\', ctx=Load()), attr=\\\\\\'pdgId\\\\\\', ctx=Load()), args=[], keywords=[]), ops=[Eq()], comparators=[Num(n=11)]), BoolOp(op=And(), values=[Compare(left=BinOp(left=Call(func=Attribute(value=Name(id=\\\\\\'arg_300\\\\\\', ctx=Load()), attr=\\\\\\'pt\\\\\\', ctx=Load()), args=[], keywords=[]), op=Div(), right=Num(n=1000.0)), ops=[Gt()], comparators=[Num(n=20)]), Compare(left=Call(func=FunctionAST(), args=[Call(func=Attribute(value=Name(id=\\\\\\'arg_300\\\\\\', ctx=Load()), attr=\\\\\\'eta\\\\\\', ctx=Load()), args=[], keywords=[])], keywords=[]), ops=[Lt()], comparators=[Num(n=1.5)])])]), Compare(left=Call(func=CPPCodeValue(), args=[Call(func=Attribute(value=Name(id=\\\\\\'arg_298\\\\\\', ctx=Load()), attr=\\\\\\'eta\\\\\\', ctx=Load()), args=[], keywords=[]), Call(func=Attribute(value=Name(id=\\\\\\'arg_298\\\\\\', ctx=Load()), attr=\\\\\\'phi\\\\\\', ctx=Load()), args=[], keywords=[]), Call(func=Attribute(value=Name(id=\\\\\\'arg_300\\\\\\', ctx=Load()), attr=\\\\\\'eta\\\\\\', ctx=Load()), args=[], keywords=[]), Call(func=Attribute(value=Name(id=\\\\\\'arg_300\\\\\\', ctx=Load()), attr=\\\\\\'phi\\\\\\', ctx=Load()), args=[], keywords=[])], keywords=[]), ops=[Lt()], comparators=[Num(n=0.1)])]))], keywords=[]), Num(n=0), Lambda(args=arguments(args=[arg(arg=\\\\\\'acc\\\\\\', annotation=None), arg(arg=\\\\\\'v\\\\\\', annotation=None)], vararg=None, kwonlyargs=[], kw_defaults=[], kwarg=None, defaults=[]), body=BinOp(left=Name(id=\\\\\\'acc\\\\\\', ctx=Load()), op=Add(), right=Num(n=1)))], keywords=[]), ops=[Gt()], comparators=[Num(n=0)]))\", but failed.\\'}')"
     ]
    }
   ],
   "source": [
    "# logging.basicConfig(level=logging.DEBUG)\n",
    "pts_with = make_local(good_eles[good_eles.hasMC].ptgev)\n",
    "pts_without = make_local(good_eles[~good_eles.hasMC].ptgev)"
   ]
  },
  {
   "cell_type": "code",
   "execution_count": null,
   "metadata": {},
   "outputs": [],
   "source": [
    "plt.hist(pts_with.flatten(), bins=50, range=(0,200))\n",
    "_ = plt.xlabel('Electron $p_T$ [GeV]')"
   ]
  },
  {
   "cell_type": "code",
   "execution_count": 38,
   "metadata": {},
   "outputs": [
    {
     "name": "stderr",
     "output_type": "stream",
     "text": [
      "DEBUG:hep_tables.local:make_local expression: BinOp(left=Attribute(value=Call(func=ast_Callable(name='lambda-<ipython-input-20-069be4f0b4d0>:3'), args=[ast_Filter(expr=ast_Filter(expr=Call(func=Attribute(value=ast_DataFrame(), attr='Electrons', ctx=Load()), args=[Str(s='Electrons')], keywords=[]), filter=BoolOp(op=And(), values=[Compare(left=BinOp(left=Attribute(value=Call(func=Attribute(value=ast_DataFrame(), attr='Electrons', ctx=Load()), args=[Str(s='Electrons')], keywords=[]), attr='pt', ctx=Load()), op=Div(), right=Num(n=1000.0)), ops=[Gt()], comparators=[Num(n=20)]), Compare(left=Call(func=Attribute(value=Attribute(value=Call(func=Attribute(value=ast_DataFrame(), attr='Electrons', ctx=Load()), args=[Str(s='Electrons')], keywords=[]), attr='eta', ctx=Load()), attr='abs', ctx=Load()), args=[], keywords=[]), ops=[Lt()], comparators=[Num(n=1.5)])])), filter=Call(func=ast_Callable(name='lambda-<ipython-input-20-069be4f0b4d0>:1'), args=[ast_Filter(expr=Call(func=Attribute(value=ast_DataFrame(), attr='Electrons', ctx=Load()), args=[Str(s='Electrons')], keywords=[]), filter=BoolOp(op=And(), values=[Compare(left=BinOp(left=Attribute(value=Call(func=Attribute(value=ast_DataFrame(), attr='Electrons', ctx=Load()), args=[Str(s='Electrons')], keywords=[]), attr='pt', ctx=Load()), op=Div(), right=Num(n=1000.0)), ops=[Gt()], comparators=[Num(n=20)]), Compare(left=Call(func=Attribute(value=Attribute(value=Call(func=Attribute(value=ast_DataFrame(), attr='Electrons', ctx=Load()), args=[Str(s='Electrons')], keywords=[]), attr='eta', ctx=Load()), attr='abs', ctx=Load()), args=[], keywords=[]), ops=[Lt()], comparators=[Num(n=1.5)])]))]))]), attr='pt', ctx=Load()), op=Div(), right=Num(n=1000.0))\n",
      "DEBUG:hep_tables.local:Stem sent to servicex: \n",
      " EventSource\n",
      "  .Select(lambda e1178: (e1178.Electrons(\"Electrons\"), e1178))\n",
      "  .Select(lambda e1179: (e1179[0].Where(lambda e1268: (((e1268.pt() / 1000.0) > 20)) and (((abs(e1268.eta())) < 1.5))), e1179[1]))\n",
      "  .Select(lambda e1189: (e1189[0].Where(lambda e1269: (e1189[1].TruthParticles(\"TruthParticles\").Where(lambda e1220: (e1220.pdgId() == 11)).Where(lambda e1221: (((e1221.pt() / 1000.0) > 20)) and (((abs(e1221.eta())) < 1.5))).Where(lambda e1222: (DeltaR(e1269.eta(), e1269.phi(), e1222.eta(), e1222.phi()) < 0.1)).Count() > 0)), e1189[1]))\n",
      "  .Select(lambda e1228: e1228[0].Select(lambda e1270: e1228[1].TruthParticles(\"TruthParticles\").Where(lambda e1256: (e1256.pdgId() == 11)).Where(lambda e1257: (((e1257.pt() / 1000.0) > 20)) and (((abs(e1257.eta())) < 1.5))).Where(lambda e1258: (DeltaR(e1270.eta(), e1270.phi(), e1258.eta(), e1258.phi()) < 0.1))))\n",
      "  .Select(lambda e1259: e1259.Select(lambda e1271: e1271.First()))\n",
      "  .Select(lambda e1260: e1260.Select(lambda e1272: e1272.pt()))\n",
      "  .Select(lambda e1261: e1261.Select(lambda e1273: (e1273 / 1000.0)))\n"
     ]
    },
    {
     "data": {
      "application/vnd.jupyter.widget-view+json": {
       "model_id": "1a571efd2f1f40c9a473efad7241e493",
       "version_major": 2,
       "version_minor": 0
      },
      "text/plain": [
       "HBox(children=(FloatProgress(value=0.0, description='mc15_13TeV:mc15_13TeV.361106.PowhegPythia8EvtGen_AZNLOCTE…"
      ]
     },
     "metadata": {},
     "output_type": "display_data"
    },
    {
     "data": {
      "application/vnd.jupyter.widget-view+json": {
       "model_id": "69ffd5eaf2744228988c4b4de17a8eeb",
       "version_major": 2,
       "version_minor": 0
      },
      "text/plain": [
       "HBox(children=(FloatProgress(value=0.0, description='        Downloaded', layout=Layout(flex='2'), max=9000000…"
      ]
     },
     "metadata": {},
     "output_type": "display_data"
    },
    {
     "name": "stderr",
     "output_type": "stream",
     "text": [
      "DEBUG:servicex.servicex:JSON to be sent to servicex: {'did': 'mc15_13TeV:mc15_13TeV.361106.PowhegPythia8EvtGen_AZNLOCTEQ6L1_Zee.merge.DAOD_STDM3.e3601_s2576_s2132_r6630_r6264_p2363_tid05630052_00', 'selection': \"(call ResultTTree (call Select (call Select (call Select (call Select (call Select (call Select (call Select (call EventDataset (list 'localds://mc15_13TeV:mc15_13TeV.361106.PowhegPythia8EvtGen_AZNLOCTEQ6L1_Zee.merge.DAOD_STDM3.a0_s2576_s2132_r6630_r6264_p2363_tid05630052_00')) (lambda (list a1) (list (call (attr a1 'Electrons') 'Electrons') a1))) (lambda (list a2) (list (call (attr (subscript a2 0) 'Where') (lambda (list a3) (and (> (/ (call (attr a3 'pt')) 1000.0) 20) (< (call abs (call (attr a3 'eta'))) 1.5)))) (subscript a2 1)))) (lambda (list a4) (list (call (attr (subscript a4 0) 'Where') (lambda (list a5) (> (call (attr (call (attr (call (attr (call (attr (call (attr (subscript a4 1) 'TruthParticles') 'TruthParticles') 'Where') (lambda (list a6) (== (call (attr a6 'pdgId')) 11))) 'Where') (lambda (list a7) (and (> (/ (call (attr a7 'pt')) 1000.0) 20) (< (call abs (call (attr a7 'eta'))) 1.5)))) 'Where') (lambda (list a8) (< (call DeltaR (call (attr a5 'eta')) (call (attr a5 'phi')) (call (attr a8 'eta')) (call (attr a8 'phi'))) 0.1))) 'Count')) 0))) (subscript a4 1)))) (lambda (list a9) (call (attr (subscript a9 0) 'Select') (lambda (list a10) (call (attr (call (attr (call (attr (call (attr (subscript a9 1) 'TruthParticles') 'TruthParticles') 'Where') (lambda (list a11) (== (call (attr a11 'pdgId')) 11))) 'Where') (lambda (list a12) (and (> (/ (call (attr a12 'pt')) 1000.0) 20) (< (call abs (call (attr a12 'eta'))) 1.5)))) 'Where') (lambda (list a13) (< (call DeltaR (call (attr a10 'eta')) (call (attr a10 'phi')) (call (attr a13 'eta')) (call (attr a13 'phi'))) 0.1))))))) (lambda (list a14) (call (attr a14 'Select') (lambda (list a15) (call (attr a15 'First')))))) (lambda (list a16) (call (attr a16 'Select') (lambda (list a17) (call (attr a17 'pt')))))) (lambda (list a18) (call (attr a18 'Select') (lambda (list a19) (/ a19 1000.0))))) (list 'col1') 'treeme' 'file.root')\", 'image': 'sslhep/servicex_func_adl_xaod_transformer:v0.4', 'result-destination': 'object-store', 'result-format': 'root-file', 'chunk-size': 1000, 'workers': 20}\n"
     ]
    },
    {
     "name": "stdout",
     "output_type": "stream",
     "text": [
      "\n"
     ]
    },
    {
     "name": "stderr",
     "output_type": "stream",
     "text": [
      "DEBUG:hep_tables.local:make_local expression: BinOp(left=Attribute(value=ast_Filter(expr=ast_Filter(expr=Call(func=Attribute(value=ast_DataFrame(), attr='Electrons', ctx=Load()), args=[Str(s='Electrons')], keywords=[]), filter=BoolOp(op=And(), values=[Compare(left=BinOp(left=Attribute(value=Call(func=Attribute(value=ast_DataFrame(), attr='Electrons', ctx=Load()), args=[Str(s='Electrons')], keywords=[]), attr='pt', ctx=Load()), op=Div(), right=Num(n=1000.0)), ops=[Gt()], comparators=[Num(n=20)]), Compare(left=Call(func=Attribute(value=Attribute(value=Call(func=Attribute(value=ast_DataFrame(), attr='Electrons', ctx=Load()), args=[Str(s='Electrons')], keywords=[]), attr='eta', ctx=Load()), attr='abs', ctx=Load()), args=[], keywords=[]), ops=[Lt()], comparators=[Num(n=1.5)])])), filter=Call(func=ast_Callable(name='lambda-<ipython-input-20-069be4f0b4d0>:1'), args=[ast_Filter(expr=Call(func=Attribute(value=ast_DataFrame(), attr='Electrons', ctx=Load()), args=[Str(s='Electrons')], keywords=[]), filter=BoolOp(op=And(), values=[Compare(left=BinOp(left=Attribute(value=Call(func=Attribute(value=ast_DataFrame(), attr='Electrons', ctx=Load()), args=[Str(s='Electrons')], keywords=[]), attr='pt', ctx=Load()), op=Div(), right=Num(n=1000.0)), ops=[Gt()], comparators=[Num(n=20)]), Compare(left=Call(func=Attribute(value=Attribute(value=Call(func=Attribute(value=ast_DataFrame(), attr='Electrons', ctx=Load()), args=[Str(s='Electrons')], keywords=[]), attr='eta', ctx=Load()), attr='abs', ctx=Load()), args=[], keywords=[]), ops=[Lt()], comparators=[Num(n=1.5)])]))])), attr='pt', ctx=Load()), op=Div(), right=Num(n=1000.0))\n",
      "DEBUG:hep_tables.local:Stem sent to servicex: \n",
      " EventSource\n",
      "  .Select(lambda e1274: (e1274.Electrons(\"Electrons\"), e1274))\n",
      "  .Select(lambda e1275: (e1275[0].Where(lambda e1327: (((e1327.pt() / 1000.0) > 20)) and (((abs(e1327.eta())) < 1.5))), e1275[1]))\n",
      "  .Select(lambda e1285: e1285[0].Where(lambda e1328: (e1285[1].TruthParticles(\"TruthParticles\").Where(lambda e1316: (e1316.pdgId() == 11)).Where(lambda e1317: (((e1317.pt() / 1000.0) > 20)) and (((abs(e1317.eta())) < 1.5))).Where(lambda e1318: (DeltaR(e1328.eta(), e1328.phi(), e1318.eta(), e1318.phi()) < 0.1)).Count() > 0)))\n",
      "  .Select(lambda e1321: e1321.Select(lambda e1329: e1329.pt()))\n",
      "  .Select(lambda e1322: e1322.Select(lambda e1330: (e1330 / 1000.0)))\n"
     ]
    },
    {
     "name": "stdout",
     "output_type": "stream",
     "text": [
      "\n"
     ]
    },
    {
     "data": {
      "application/vnd.jupyter.widget-view+json": {
       "model_id": "93a77adc7de04eaaa3da88eaa7212919",
       "version_major": 2,
       "version_minor": 0
      },
      "text/plain": [
       "HBox(children=(FloatProgress(value=0.0, description='mc15_13TeV:mc15_13TeV.361106.PowhegPythia8EvtGen_AZNLOCTE…"
      ]
     },
     "metadata": {},
     "output_type": "display_data"
    },
    {
     "data": {
      "application/vnd.jupyter.widget-view+json": {
       "model_id": "bc02acf8859e4fcfaa84b3317dbddb68",
       "version_major": 2,
       "version_minor": 0
      },
      "text/plain": [
       "HBox(children=(FloatProgress(value=0.0, description='        Downloaded', layout=Layout(flex='2'), max=9000000…"
      ]
     },
     "metadata": {},
     "output_type": "display_data"
    },
    {
     "name": "stderr",
     "output_type": "stream",
     "text": [
      "DEBUG:servicex.servicex:JSON to be sent to servicex: {'did': 'mc15_13TeV:mc15_13TeV.361106.PowhegPythia8EvtGen_AZNLOCTEQ6L1_Zee.merge.DAOD_STDM3.e3601_s2576_s2132_r6630_r6264_p2363_tid05630052_00', 'selection': \"(call ResultTTree (call Select (call Select (call Select (call Select (call Select (call EventDataset (list 'localds://mc15_13TeV:mc15_13TeV.361106.PowhegPythia8EvtGen_AZNLOCTEQ6L1_Zee.merge.DAOD_STDM3.a0_s2576_s2132_r6630_r6264_p2363_tid05630052_00')) (lambda (list a1) (list (call (attr a1 'Electrons') 'Electrons') a1))) (lambda (list a2) (list (call (attr (subscript a2 0) 'Where') (lambda (list a3) (and (> (/ (call (attr a3 'pt')) 1000.0) 20) (< (call abs (call (attr a3 'eta'))) 1.5)))) (subscript a2 1)))) (lambda (list a4) (call (attr (subscript a4 0) 'Where') (lambda (list a5) (> (call (attr (call (attr (call (attr (call (attr (call (attr (subscript a4 1) 'TruthParticles') 'TruthParticles') 'Where') (lambda (list a6) (== (call (attr a6 'pdgId')) 11))) 'Where') (lambda (list a7) (and (> (/ (call (attr a7 'pt')) 1000.0) 20) (< (call abs (call (attr a7 'eta'))) 1.5)))) 'Where') (lambda (list a8) (< (call DeltaR (call (attr a5 'eta')) (call (attr a5 'phi')) (call (attr a8 'eta')) (call (attr a8 'phi'))) 0.1))) 'Count')) 0))))) (lambda (list a9) (call (attr a9 'Select') (lambda (list a10) (call (attr a10 'pt')))))) (lambda (list a11) (call (attr a11 'Select') (lambda (list a12) (/ a12 1000.0))))) (list 'col1') 'treeme' 'file.root')\", 'image': 'sslhep/servicex_func_adl_xaod_transformer:v0.4', 'result-destination': 'object-store', 'result-format': 'root-file', 'chunk-size': 1000, 'workers': 20}\n"
     ]
    },
    {
     "name": "stdout",
     "output_type": "stream",
     "text": [
      "\n",
      "\n"
     ]
    }
   ],
   "source": [
    "# logging.basicConfig(level=logging.DEBUG)\n",
    "pt_matched_mc = make_local(good_eles_with_mc.mc.ptgev)\n",
    "pt_matched_reco = make_local(good_eles_with_mc.ptgev)"
   ]
  },
  {
   "cell_type": "code",
   "execution_count": 39,
   "metadata": {},
   "outputs": [
    {
     "data": {
      "text/plain": [
       "(1993800, 1993800)"
      ]
     },
     "execution_count": 39,
     "metadata": {},
     "output_type": "execute_result"
    }
   ],
   "source": [
    "len(pt_matched_mc), len(pt_matched_reco)"
   ]
  },
  {
   "cell_type": "code",
   "execution_count": 40,
   "metadata": {},
   "outputs": [
    {
     "data": {
      "image/png": "[encoded data removed]",
      "text/plain": [
       "<Figure size 700x500 with 1 Axes>"
      ]
     },
     "metadata": {
      "needs_background": "light"
     },
     "output_type": "display_data"
    }
   ],
   "source": [
    "plt.hist((pt_matched_mc).flatten(), label='mc', bins=50, range=(0,200), histtype='step')\n",
    "plt.hist((pt_matched_reco).flatten(), label='reco', bins=50, range=(0,200), histtype='step')\n",
    "plt.legend()\n",
    "_ = plt.xlabel('Electron $p_T$ [GeV]')"
   ]
  },
  {
   "cell_type": "code",
   "execution_count": 43,
   "metadata": {},
   "outputs": [
    {
     "data": {
      "image/png": "[encoded data removed]",
      "text/plain": [
       "<Figure size 700x500 with 1 Axes>"
      ]
     },
     "metadata": {
      "needs_background": "light"
     },
     "output_type": "display_data"
    }
   ],
   "source": [
    "plt.hist((pt_matched_mc-pt_matched_reco).flatten(), bins=100, range=(-20, 20), histtype='step')\n",
    "_ = plt.xlabel(\"Resolution (MC-RECO) [GeV]\")"
   ]
  },
  {
   "cell_type": "code",
   "execution_count": null,
   "metadata": {},
   "outputs": [],
   "source": []
  }
 ],
 "metadata": {
  "kernelspec": {
   "display_name": "Python 3",
   "language": "python",
   "name": "python3"
  },
  "language_info": {
   "codemirror_mode": {
    "name": "ipython",
    "version": 3
   },
   "file_extension": ".py",
   "mimetype": "text/x-python",
   "name": "python",
   "nbconvert_exporter": "python",
   "pygments_lexer": "ipython3",
   "version": "3.7.7"
  }
 },
 "nbformat": 4,
 "nbformat_minor": 4
}
