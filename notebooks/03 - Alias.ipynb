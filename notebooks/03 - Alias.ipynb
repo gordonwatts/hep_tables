{
 "cells": [
  {
   "cell_type": "markdown",
   "metadata": {},
   "source": [
    "# Aliases\n",
    "\n",
    "No, not the TV show.\n",
    "\n",
    "It is nice to be able to avoid typing something over and over - like getting `pt` into units of `GeV` in ATLAS."
   ]
  },
  {
   "cell_type": "code",
   "execution_count": 1,
   "metadata": {},
   "outputs": [],
   "source": [
    "import sys\n",
    "sys.path = ['..'] + sys.path\n",
    "from hep_tables import xaod_table,make_local\n",
    "from func_adl import EventDataset\n",
    "import matplotlib.pyplot as plt\n",
    "\n",
    "from dataframe_expressions import define_alias\n",
    "\n",
    "plt.rcParams.update({'figure.figsize':(7,5), 'figure.dpi':100})"
   ]
  },
  {
   "cell_type": "code",
   "execution_count": 2,
   "metadata": {},
   "outputs": [],
   "source": [
    "dataset = EventDataset('localds://mc15_13TeV:mc15_13TeV.361106.PowhegPythia8EvtGen_AZNLOCTEQ6L1_Zee.merge.DAOD_STDM3.e3601_s2576_s2132_r6630_r6264_p2363_tid05630052_00')\n",
    "df = xaod_table(dataset)"
   ]
  },
  {
   "cell_type": "markdown",
   "metadata": {},
   "source": [
    "# Defining short cuts for collections and the like\n",
    "\n",
    "Lets do something nicer than `df.Electroncs(\"Electrons\")` - that text is very important for the backend (e.g. so it knows which electrons to go after), but for us, as a user. Who cares, we just want electrons."
   ]
  },
  {
   "cell_type": "code",
   "execution_count": 3,
   "metadata": {},
   "outputs": [],
   "source": [
    "define_alias('.', 'eles', lambda e: e.Electrons(\"Electrons\"))"
   ]
  },
  {
   "cell_type": "code",
   "execution_count": 4,
   "metadata": {},
   "outputs": [
    {
     "name": "stdout",
     "output_type": "stream",
     "text": [
      "Wall time: 3min 11s\n"
     ]
    }
   ],
   "source": [
    "%%time\n",
    "pts = make_local(df.eles.pt/1000.0)"
   ]
  },
  {
   "cell_type": "code",
   "execution_count": 5,
   "metadata": {},
   "outputs": [
    {
     "name": "stderr",
     "output_type": "stream",
     "text": [
      "i:\\gwatts\\code\\irishep\\hep_tables\\.venv\\lib\\site-packages\\numpy\\lib\\histograms.py:839: RuntimeWarning: invalid value encountered in greater_equal\n",
      "  keep = (tmp_a >= first_edge)\n",
      "i:\\gwatts\\code\\irishep\\hep_tables\\.venv\\lib\\site-packages\\numpy\\lib\\histograms.py:840: RuntimeWarning: invalid value encountered in less_equal\n",
      "  keep &= (tmp_a <= last_edge)\n"
     ]
    },
    {
     "data": {
      "image/png": "[encoded data removed]",
      "text/plain": [
       "<Figure size 700x500 with 1 Axes>"
      ]
     },
     "metadata": {
      "needs_background": "light"
     },
     "output_type": "display_data"
    }
   ],
   "source": [
    "plt.hist(pts.flatten(), range=(0, 100), bins=50)\n",
    "plt.xlabel('Electron $p_T$ [GeV]')\n",
    "_ = plt.ylabel('PowhegPythia8EvtGen_AZNLOCTEQ6L1_Zee')"
   ]
  },
  {
   "cell_type": "code",
   "execution_count": 6,
   "metadata": {},
   "outputs": [
    {
     "name": "stdout",
     "output_type": "stream",
     "text": [
      "Help on function define_alias in module dataframe_expressions.alias:\n",
      "\n",
      "define_alias(base_obj: 'str', name: 'str', func_define: 'Callable[[DataFrame], DataFrame]')\n",
      "    Define an alias that can be used as a short cut for a reference later on. For example:\n",
      "    \n",
      "        ```\n",
      "        df = DataFrame()\n",
      "        define_alias (\".jets\", \"pts\", lambda o: o.pt/1000.0)\n",
      "        ```\n",
      "    \n",
      "    When you write `df.jets.pts` it is the same as writing `df.jets.pt/1000.0`.\n",
      "    \n",
      "    If you've already used an alias in constructing a `DataFrame` then it will not be\n",
      "    filled: alias are resolved as the DAG is being constructed, not when it is rendered.\n",
      "    \n",
      "    ## Adding aliases of the same name\n",
      "    \n",
      "    This implementation does no checking as things are added. You can have different base names,\n",
      "    and if the base_obj's are different they will match differently, as you would expect.\n",
      "    But they are evaluated last one entered first, so if you enter a complete wildcard, nothing\n",
      "    else will ever get looked at. If this wasn't a prototype perhaps I'd not allow this.\n",
      "    \n",
      "    ## How `base_obj` works\n",
      "    \n",
      "        - The leading `.` indicates a reference from the root dataframe\n",
      "        - Without the leading `.` it will just match from the current position. For example,\n",
      "        if `base_obj` is `\"\"`, then anytime you write `xxx.pts` it will become `xxx.pt/1000.0`.        This allows some level of wildcard.\n",
      "    \n",
      "    ## Restrictions on `func_define`\n",
      "    \n",
      "        - This function is called with a DataFrame as its argument. You may only do what you\n",
      "          would normally do. So not loops, etc. It must return a new DataFrame!! Not even\n",
      "          constant returns are supported just yet!\n",
      "    \n",
      "    Arguments:\n",
      "        base_obj            Base objects, starting with a `.` indicating path to where this should\n",
      "                            be applied.\n",
      "        name                Name of the new functions\n",
      "        func_define         Lambda that returns the modified DAG. See restrictions above for rules\n",
      "                            on this lambda.\n",
      "\n"
     ]
    }
   ],
   "source": [
    "help(define_alias)"
   ]
  },
  {
   "cell_type": "markdown",
   "metadata": {},
   "source": [
    "A few things to note:\n",
    "    \n",
    "    - You could define a _personality_ file for your code or analysis. A set of short-hands that are easily used by everyone, and it would keep the backend running at full fidelity.\n",
    "    - The replacement is one as the DAG is constructed. A constructed DAG will not get the alias replacement for anything defined after it was created.\n",
    "    - What is also cool about this is any backend that uses `dataframe_expressions` now gets this feature with no work of their own."
   ]
  },
  {
   "cell_type": "markdown",
   "metadata": {},
   "source": [
    "## Defining and redefining leaves\n",
    "\n",
    "Lets create a new leaf on electrons called `pt` that is just `pt / 1000.0`. Note that I'm now hiding the original leaf!!! I could define a leaf like `pts` and always use that, and that would also work just fine."
   ]
  },
  {
   "cell_type": "code",
   "execution_count": 7,
   "metadata": {},
   "outputs": [],
   "source": [
    "define_alias('', 'pt', lambda o: o.pt / 1000.0)"
   ]
  },
  {
   "cell_type": "code",
   "execution_count": 8,
   "metadata": {},
   "outputs": [
    {
     "name": "stdout",
     "output_type": "stream",
     "text": [
      "Wall time: 1min 52s\n"
     ]
    }
   ],
   "source": [
    "%%time\n",
    "pts = make_local(df.eles.pt)"
   ]
  },
  {
   "cell_type": "code",
   "execution_count": 9,
   "metadata": {},
   "outputs": [
    {
     "data": {
      "image/png": "[encoded data removed]",
      "text/plain": [
       "<Figure size 700x500 with 1 Axes>"
      ]
     },
     "metadata": {
      "needs_background": "light"
     },
     "output_type": "display_data"
    }
   ],
   "source": [
    "plt.hist(pts.flatten(), range=(0, 100), bins=50)\n",
    "plt.xlabel('Electron $p_T$ [GeV]')\n",
    "_ = plt.ylabel('PowhegPythia8EvtGen_AZNLOCTEQ6L1_Zee')"
   ]
  },
  {
   "cell_type": "code",
   "execution_count": null,
   "metadata": {},
   "outputs": [],
   "source": []
  }
 ],
 "metadata": {
  "kernelspec": {
   "display_name": "Python 3",
   "language": "python",
   "name": "python3"
  },
  "language_info": {
   "codemirror_mode": {
    "name": "ipython",
    "version": 3
   },
   "file_extension": ".py",
   "mimetype": "text/x-python",
   "name": "python",
   "nbconvert_exporter": "python",
   "pygments_lexer": "ipython3",
   "version": "3.7.7"
  }
 },
 "nbformat": 4,
 "nbformat_minor": 4
}
