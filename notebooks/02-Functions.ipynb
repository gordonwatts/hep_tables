{
 "cells": [
  {
   "cell_type": "markdown",
   "metadata": {},
   "source": [
    "# Functions\n",
    "\n",
    "Calling functions - math functions, filter functions, etc. - are built in. This page takes you through some of the support in the current `hep_tables` package."
   ]
  },
  {
   "cell_type": "code",
   "execution_count": 1,
   "metadata": {},
   "outputs": [],
   "source": [
    "import sys\n",
    "sys.path = ['..'] + sys.path\n",
    "from hep_tables import xaod_table, make_local\n",
    "from dataframe_expressions import user_func\n",
    "from func_adl import EventDataset\n",
    "import matplotlib.pyplot as plt\n",
    "\n",
    "import numpy as np\n",
    "\n",
    "plt.rcParams.update({'figure.figsize':(7,5), 'figure.dpi':100})"
   ]
  },
  {
   "cell_type": "code",
   "execution_count": 2,
   "metadata": {},
   "outputs": [],
   "source": [
    "dataset = EventDataset('localds://mc15_13TeV:mc15_13TeV.361106.PowhegPythia8EvtGen_AZNLOCTEQ6L1_Zee.merge.DAOD_STDM3.e3601_s2576_s2132_r6630_r6264_p2363_tid05630052_00')\n",
    "df = xaod_table(dataset)"
   ]
  },
  {
   "cell_type": "markdown",
   "metadata": {},
   "source": [
    "## Generic Math Functions\n",
    "\n",
    "Python comes with a few math functions built in - that is, objects can directly support `abs` and the like. While only `abs` is implemented this way, you can see others that are possible in the [python documentation](https://docs.python.org/3/library/operator.html). The `abs` function already appeared in the previous page looking at filtering for the electron's `eta`. Here we do it a bit more simply:"
   ]
  },
  {
   "cell_type": "code",
   "execution_count": 3,
   "metadata": {},
   "outputs": [
    {
     "name": "stdout",
     "output_type": "stream",
     "text": [
      "Wall time: 5min 7s\n"
     ]
    }
   ],
   "source": [
    "%%time\n",
    "eles = df.Electrons(\"Electrons\")\n",
    "np_eta_all = make_local(eles.eta)\n",
    "np_eta_abs = make_local(abs(eles.eta))"
   ]
  },
  {
   "cell_type": "code",
   "execution_count": 4,
   "metadata": {},
   "outputs": [
    {
     "data": {
      "image/png": "[encoded data removed]",
      "text/plain": [
       "<Figure size 700x500 with 1 Axes>"
      ]
     },
     "metadata": {
      "needs_background": "light"
     },
     "output_type": "display_data"
    }
   ],
   "source": [
    "plt.hist(np_eta_abs.flatten(), label='abs', bins=50, range=(-3.0,3.0), color='g')\n",
    "plt.hist(np_eta_all.flatten(), label='all', bins=50, range=(-3.0,3.0))\n",
    "plt.yscale('log')\n",
    "plt.xlabel('Electron $\\eta$')\n",
    "plt.legend();"
   ]
  },
  {
   "cell_type": "markdown",
   "metadata": {},
   "source": [
    "## `numpy` integration\n",
    "\n",
    "The `numpy` library is a defacto interface now. This section looks at two different integrations for `numpy`. This prototype is thinner here than normal - this is mainly here to understand what is possible."
   ]
  },
  {
   "cell_type": "markdown",
   "metadata": {},
   "source": [
    "### Math Functions\n",
    "\n",
    "These include things like `np.sin` and `np.absolute` - here we do `np.abs` since it is one were the backend already works."
   ]
  },
  {
   "cell_type": "code",
   "execution_count": 5,
   "metadata": {},
   "outputs": [
    {
     "name": "stdout",
     "output_type": "stream",
     "text": [
      "Wall time: 2min 22s\n"
     ]
    }
   ],
   "source": [
    "%%time\n",
    "eles = df.Electrons(\"Electrons\")\n",
    "good_eles = eles[np.abs(eles.eta) < 2.5]\n",
    "np_pts_good_short = make_local(good_eles.eta)"
   ]
  },
  {
   "cell_type": "code",
   "execution_count": 6,
   "metadata": {},
   "outputs": [
    {
     "data": {
      "image/png": "[encoded data removed]",
      "text/plain": [
       "<Figure size 700x500 with 1 Axes>"
      ]
     },
     "metadata": {
      "needs_background": "light"
     },
     "output_type": "display_data"
    }
   ],
   "source": [
    "plt.hist(np_pts_good_short.flatten(), label='good', bins=50, range=(-3.0,3.0))\n",
    "plt.xlabel(\"Electron $\\eta$\")\n",
    "plt.legend();"
   ]
  },
  {
   "cell_type": "markdown",
   "metadata": {},
   "source": [
    "### Histograms\n",
    "\n",
    "The basis for many plots we do in particle physics is the histogram. When it comes down to it, in Run 4+, it is not likely we can run this locally - we'll need to run it remotely. Unfortunately, `numpy` doesn't use the above extension mechanism for `numpy.histogram` - so we have to re-write it. This is what it might look like:"
   ]
  },
  {
   "cell_type": "code",
   "execution_count": 7,
   "metadata": {},
   "outputs": [],
   "source": [
    "from hep_tables import histogram"
   ]
  },
  {
   "cell_type": "code",
   "execution_count": 8,
   "metadata": {},
   "outputs": [],
   "source": [
    "good_eles = eles[np.abs(eles.eta) < 2.5]\n",
    "good_ele_hist = make_local(histogram(good_eles.eta, bins=50, range=(-3.0,3.0)))"
   ]
  },
  {
   "cell_type": "code",
   "execution_count": 9,
   "metadata": {},
   "outputs": [
    {
     "data": {
      "text/plain": [
       "(array([     0,      0,      0,      0,  85745, 112741, 113874, 112983,\n",
       "        114508, 114784, 117134, 110956,  91870,  98522, 119778, 122264,\n",
       "        123661, 124620, 132150, 146337, 152674, 154650, 154280, 151966,\n",
       "        148552, 149257, 152511, 152984, 153445, 153742, 147485, 132846,\n",
       "        125098, 123592, 123053, 120665,  98664,  91761, 111661, 118223,\n",
       "        114385, 114995, 112068, 113957, 112241,  85682,      0,      0,\n",
       "             0,      0], dtype=int64),\n",
       " array([-3.  , -2.88, -2.76, -2.64, -2.52, -2.4 , -2.28, -2.16, -2.04,\n",
       "        -1.92, -1.8 , -1.68, -1.56, -1.44, -1.32, -1.2 , -1.08, -0.96,\n",
       "        -0.84, -0.72, -0.6 , -0.48, -0.36, -0.24, -0.12,  0.  ,  0.12,\n",
       "         0.24,  0.36,  0.48,  0.6 ,  0.72,  0.84,  0.96,  1.08,  1.2 ,\n",
       "         1.32,  1.44,  1.56,  1.68,  1.8 ,  1.92,  2.04,  2.16,  2.28,\n",
       "         2.4 ,  2.52,  2.64,  2.76,  2.88,  3.  ]))"
      ]
     },
     "execution_count": 9,
     "metadata": {},
     "output_type": "execute_result"
    }
   ],
   "source": [
    "good_ele_hist"
   ]
  },
  {
   "cell_type": "code",
   "execution_count": 10,
   "metadata": {},
   "outputs": [
    {
     "data": {
      "text/plain": [
       "[<matplotlib.lines.Line2D at 0x13f00ae4ec8>]"
      ]
     },
     "execution_count": 10,
     "metadata": {},
     "output_type": "execute_result"
    },
    {
     "data": {
      "image/png": "[encoded data removed]",
      "text/plain": [
       "<Figure size 700x500 with 1 Axes>"
      ]
     },
     "metadata": {
      "needs_background": "light"
     },
     "output_type": "display_data"
    }
   ],
   "source": [
    "plt.plot(good_ele_hist[1][:-1], good_ele_hist[0], marker='o')"
   ]
  },
  {
   "cell_type": "markdown",
   "metadata": {},
   "source": [
    "Here is what happened - since the `servicex` transformer we are talking to can't actually fill a histogram.\n",
    "\n",
    "1. `make_local` picked off the data that needed to be histogramed, and shipped it off to `servicex` as normal\n",
    "1. It then uses the real `np.histogram` to fill a histogram, and packaged up the results\n",
    "1. And then shipped those back to the user.\n",
    "1. I demonstrated how badly I know `matplotlib` with that aweful looking histogram rather than understanding how to use `matplotlibs`'s `hist`.\n",
    "\n",
    "Other than the plotting, these instructions are in the DAQ before `make_local` is called - so could easily be shipped to a remote analysis facility. And one would imagine the histogram data being shipped in a more transportable format, like [`aghast`](https://github.com/scikit-hep/aghast)."
   ]
  },
  {
   "cell_type": "markdown",
   "metadata": {},
   "source": [
    "## The `map` function\n",
    "\n",
    "The `map` function is a common function that takes a sequence of values, like $seq = (x_0, x_1, x_2, x_3,...)$ and a single argument function like `f(x)`, and applies them such that $map(f, seq) = (f(x_0), f(x_1), f(x_2), f(x_3), ...)$. In many places this `map` function has been effectively used already. For example, `ele_pt = df.eles.pt` could be written as:\n",
    "\n",
    "```\n",
    "df.eles.map(lambda e: e.pt)\n",
    "```\n",
    "\n",
    "This function is explicitly implemented in this prototype:"
   ]
  },
  {
   "cell_type": "code",
   "execution_count": 11,
   "metadata": {},
   "outputs": [],
   "source": [
    "mapped_eles = eles.map(lambda e: e.pt/1000.0)"
   ]
  },
  {
   "cell_type": "code",
   "execution_count": 12,
   "metadata": {},
   "outputs": [
    {
     "name": "stdout",
     "output_type": "stream",
     "text": [
      "Wall time: 2min 7s\n"
     ]
    }
   ],
   "source": [
    "%%time\n",
    "mapped_eles_pt = make_local(mapped_eles)"
   ]
  },
  {
   "cell_type": "code",
   "execution_count": 13,
   "metadata": {},
   "outputs": [
    {
     "name": "stderr",
     "output_type": "stream",
     "text": [
      "i:\\gwatts\\code\\irishep\\hep_tables\\.venv\\lib\\site-packages\\numpy\\lib\\histograms.py:839: RuntimeWarning: invalid value encountered in greater_equal\n",
      "  keep = (tmp_a >= first_edge)\n",
      "i:\\gwatts\\code\\irishep\\hep_tables\\.venv\\lib\\site-packages\\numpy\\lib\\histograms.py:840: RuntimeWarning: invalid value encountered in less_equal\n",
      "  keep &= (tmp_a <= last_edge)\n"
     ]
    },
    {
     "data": {
      "image/png": "[encoded data removed]",
      "text/plain": [
       "<Figure size 700x500 with 1 Axes>"
      ]
     },
     "metadata": {
      "needs_background": "light"
     },
     "output_type": "display_data"
    }
   ],
   "source": [
    "plt.hist(mapped_eles_pt.flatten(), bins=50, range=(0, 100000.0))\n",
    "_ = plt.xlabel('Electron $\\eta$')"
   ]
  },
  {
   "cell_type": "markdown",
   "metadata": {},
   "source": [
    "Now that the concept is down, much more complex things are possible inside that `lambda`. And there is no need for it to be a `lambda` - it can be a normal function as long as it returns a calculated DAQ expressions (so no if statements on data, etc.). The real power of this will be seen when we look at multiple objects in one expression later on."
   ]
  },
  {
   "cell_type": "markdown",
   "metadata": {},
   "source": [
    "## Backend Functions\n",
    "\n",
    "There are times one wants to use a stand-alone function that is availible at the backend. This is one example of a leaky abstraction. `hep_tables` uses a fairly simple syntax to declare a function like this. For example, in the current ATLAS `xAOD` `servicex` transformer the `DeltaR` function is declared:"
   ]
  },
  {
   "cell_type": "code",
   "execution_count": 14,
   "metadata": {},
   "outputs": [],
   "source": [
    "@user_func\n",
    "def DeltaR(p1_eta: float, p1_phi: float, p2_eta: float, p2_phi: float) -> float:\n",
    "    '''\n",
    "    Calculate the DeltaR between two particles given their `eta` and `phi` locations.\n",
    "    Implemented on the back end.\n",
    "    '''\n",
    "    assert False, 'This should never be called'"
   ]
  },
  {
   "cell_type": "markdown",
   "metadata": {},
   "source": [
    "The type hints isn't required, I'm trying to be better. The decorator `user_func` declares it to the system as a function that should be called on the back end. We can now use it - although in a rather boring way:"
   ]
  },
  {
   "cell_type": "code",
   "execution_count": 15,
   "metadata": {},
   "outputs": [],
   "source": [
    "mapped_eles = eles.map(lambda e: DeltaR(e.eta, e.phi, e.eta, e.phi))"
   ]
  },
  {
   "cell_type": "code",
   "execution_count": 16,
   "metadata": {},
   "outputs": [
    {
     "name": "stdout",
     "output_type": "stream",
     "text": [
      "Wall time: 2min 7s\n"
     ]
    },
    {
     "data": {
      "text/plain": [
       "<JaggedArray [[0.0] [0.0 0.0 0.0 0.0] [] ... [0.0] [0.0 0.0 0.0] []] at 0x013f00099cc8>"
      ]
     },
     "execution_count": 16,
     "metadata": {},
     "output_type": "execute_result"
    }
   ],
   "source": [
    "%%time\n",
    "delta_r_zero = make_local(mapped_eles)\n",
    "delta_r_zero"
   ]
  },
  {
   "cell_type": "markdown",
   "metadata": {},
   "source": [
    "There is one architectural decision I made here - not at all sure it is the right one. But lets say we have $seq = (x_0, x_1, x_2, x_3,...)$ as before. Then `abs(seq)` is translated into the mathmatical equivalent of `seq.map(lambda s: abs(s))`. That does not happen for `user_func`'s. The reason is I'm not at all sure what is the right thing to do when two different sequences are passed to `DeltaR`. Instead, in the prototype this has been made explicit. One can always write helper functions and compose them, of course.\n",
    "\n",
    "As a side note, it might be interesting to combine this with some of the `numpy.histogram` like methods to implement them on the backend."
   ]
  },
  {
   "cell_type": "code",
   "execution_count": null,
   "metadata": {},
   "outputs": [],
   "source": []
  }
 ],
 "metadata": {
  "kernelspec": {
   "display_name": "Python 3",
   "language": "python",
   "name": "python3"
  },
  "language_info": {
   "codemirror_mode": {
    "name": "ipython",
    "version": 3
   },
   "file_extension": ".py",
   "mimetype": "text/x-python",
   "name": "python",
   "nbconvert_exporter": "python",
   "pygments_lexer": "ipython3",
   "version": "3.7.7"
  }
 },
 "nbformat": 4,
 "nbformat_minor": 4
}
